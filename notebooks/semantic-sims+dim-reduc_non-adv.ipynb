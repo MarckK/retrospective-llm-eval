{
  "cells": [
    {
      "cell_type": "markdown",
      "metadata": {
        "id": "-I4tj7gO-naB"
      },
      "source": [
        "# Semantics Similarity\n",
        "This notebook generates multiple representations of the difference in semantic similarity between two datasets.\n",
        "\n",
        "More specifically, it was designed to probe the semantic difference between specific categories of TruthfulQA and custom datasets created as *holdouts* for those categories.\n",
        "\n",
        "The two methods are:\n",
        "1. [Uniform Manifold Approximation and Projection](https://umap-learn.readthedocs.io/en/latest/index.html) (UMAP) to reduce dimensionality of embeddings and plot a visual representation. This is used as a sanity check; if we can percieve clear differences in the visual representation of the our `retro` and the `target`, our other test should probably pick up on these differences as well.\n",
        "2. This one is slightly more complicated, but allows for a concrete p-value, and has shown to be more sensitive to differences than more straight forward methods, such as simply comparing mean cosine similarity.\n",
        "    - First, we randomly sample the `combined` datasets for some numer of entries `s`; we designate the `i`th sampling `pulls[i]`. Note that `s` cannot be larger than the smallest of the two input datasets.\n",
        "    - We then calculate the unique, nontrivial cosine similarities between `pulls[i]` and `combined`.\n",
        "        - This excludes two types of entries: when an embedding is compared with itself, and when an embedding has already been compared (i.e., we do not compare A🠖B when we already have calculated B🠖A)\n",
        "    - Leverage the [Anderson Darling k-sample test](https://www.itl.nist.gov/div898/software/dataplot/refman1/auxillar/andeksam.htm) (ADk) to create a *likelihood of same distribution* value for each sample, `pulls[i]`, when compared to the *combined dataset*.\n",
        "        - This can be written `ADk_test_statistic(cos_sim(combined), cos_sim(pulls[i]))`.\n",
        "    - We then use ADk to compare `combined` and `retro` in the same manner.\n",
        "    - Finally, we calculate the likelihood that an ADk test statistic greater than the value seen when comparing `combined` and `retro` could be produced by replacing `retro` with a random sample.\n",
        "        - If this is very likely (>95%) or very unlikely (<5%), we say that the datasets are not sufficiently similar, according to this test.\n",
        "\n",
        "\n",
        "When run in Colab using free instances it takes ~5 minutes to run in its entirety."
      ]
    },
    {
      "cell_type": "code",
      "execution_count": 4,
      "metadata": {
        "id": "fWsGdzfxn0bA",
        "colab": {
          "base_uri": "https://localhost:8080/"
        },
        "outputId": "23f34691-779a-4553-9681-6b05557f4b71"
      },
      "outputs": [
        {
          "output_type": "stream",
          "name": "stdout",
          "text": [
            "fatal: destination path 'retrospective-llm-eval' already exists and is not an empty directory.\n"
          ]
        }
      ],
      "source": [
        "import time\n",
        "t0 = time.time()\n",
        "\n",
        "try:\n",
        "  import google.colab\n",
        "  IN_COLAB = True\n",
        "  !git clone https://github.com/cwenner/retrospective-llm-eval.git\n",
        "except:\n",
        "  IN_COLAB = False\n",
        "  import os\n",
        "  import sys\n",
        "  sys.path.append(os.path.dirname(os.path.dirname(os.path.abspath(\"__file__\"))))\n"
      ]
    },
    {
      "cell_type": "code",
      "execution_count": 5,
      "metadata": {
        "id": "MV5tDM6LpcYU",
        "colab": {
          "base_uri": "https://localhost:8080/"
        },
        "outputId": "05af1ab9-1073-4846-bd76-836f976782be"
      },
      "outputs": [
        {
          "output_type": "stream",
          "name": "stdout",
          "text": [
            "Requirement already satisfied: sentence-transformers in /usr/local/lib/python3.10/dist-packages (2.7.0)\n",
            "Requirement already satisfied: transformers<5.0.0,>=4.34.0 in /usr/local/lib/python3.10/dist-packages (from sentence-transformers) (4.40.0)\n",
            "Requirement already satisfied: tqdm in /usr/local/lib/python3.10/dist-packages (from sentence-transformers) (4.66.2)\n",
            "Requirement already satisfied: torch>=1.11.0 in /usr/local/lib/python3.10/dist-packages (from sentence-transformers) (2.2.1+cu121)\n",
            "Requirement already satisfied: numpy in /usr/local/lib/python3.10/dist-packages (from sentence-transformers) (1.25.2)\n",
            "Requirement already satisfied: scikit-learn in /usr/local/lib/python3.10/dist-packages (from sentence-transformers) (1.2.2)\n",
            "Requirement already satisfied: scipy in /usr/local/lib/python3.10/dist-packages (from sentence-transformers) (1.11.4)\n",
            "Requirement already satisfied: huggingface-hub>=0.15.1 in /usr/local/lib/python3.10/dist-packages (from sentence-transformers) (0.20.3)\n",
            "Requirement already satisfied: Pillow in /usr/local/lib/python3.10/dist-packages (from sentence-transformers) (9.4.0)\n",
            "Requirement already satisfied: filelock in /usr/local/lib/python3.10/dist-packages (from huggingface-hub>=0.15.1->sentence-transformers) (3.13.4)\n",
            "Requirement already satisfied: fsspec>=2023.5.0 in /usr/local/lib/python3.10/dist-packages (from huggingface-hub>=0.15.1->sentence-transformers) (2023.6.0)\n",
            "Requirement already satisfied: requests in /usr/local/lib/python3.10/dist-packages (from huggingface-hub>=0.15.1->sentence-transformers) (2.31.0)\n",
            "Requirement already satisfied: pyyaml>=5.1 in /usr/local/lib/python3.10/dist-packages (from huggingface-hub>=0.15.1->sentence-transformers) (6.0.1)\n",
            "Requirement already satisfied: typing-extensions>=3.7.4.3 in /usr/local/lib/python3.10/dist-packages (from huggingface-hub>=0.15.1->sentence-transformers) (4.11.0)\n",
            "Requirement already satisfied: packaging>=20.9 in /usr/local/lib/python3.10/dist-packages (from huggingface-hub>=0.15.1->sentence-transformers) (24.0)\n",
            "Requirement already satisfied: sympy in /usr/local/lib/python3.10/dist-packages (from torch>=1.11.0->sentence-transformers) (1.12)\n",
            "Requirement already satisfied: networkx in /usr/local/lib/python3.10/dist-packages (from torch>=1.11.0->sentence-transformers) (3.3)\n",
            "Requirement already satisfied: jinja2 in /usr/local/lib/python3.10/dist-packages (from torch>=1.11.0->sentence-transformers) (3.1.3)\n",
            "Requirement already satisfied: nvidia-cuda-nvrtc-cu12==12.1.105 in /usr/local/lib/python3.10/dist-packages (from torch>=1.11.0->sentence-transformers) (12.1.105)\n",
            "Requirement already satisfied: nvidia-cuda-runtime-cu12==12.1.105 in /usr/local/lib/python3.10/dist-packages (from torch>=1.11.0->sentence-transformers) (12.1.105)\n",
            "Requirement already satisfied: nvidia-cuda-cupti-cu12==12.1.105 in /usr/local/lib/python3.10/dist-packages (from torch>=1.11.0->sentence-transformers) (12.1.105)\n",
            "Requirement already satisfied: nvidia-cudnn-cu12==8.9.2.26 in /usr/local/lib/python3.10/dist-packages (from torch>=1.11.0->sentence-transformers) (8.9.2.26)\n",
            "Requirement already satisfied: nvidia-cublas-cu12==12.1.3.1 in /usr/local/lib/python3.10/dist-packages (from torch>=1.11.0->sentence-transformers) (12.1.3.1)\n",
            "Requirement already satisfied: nvidia-cufft-cu12==11.0.2.54 in /usr/local/lib/python3.10/dist-packages (from torch>=1.11.0->sentence-transformers) (11.0.2.54)\n",
            "Requirement already satisfied: nvidia-curand-cu12==10.3.2.106 in /usr/local/lib/python3.10/dist-packages (from torch>=1.11.0->sentence-transformers) (10.3.2.106)\n",
            "Requirement already satisfied: nvidia-cusolver-cu12==11.4.5.107 in /usr/local/lib/python3.10/dist-packages (from torch>=1.11.0->sentence-transformers) (11.4.5.107)\n",
            "Requirement already satisfied: nvidia-cusparse-cu12==12.1.0.106 in /usr/local/lib/python3.10/dist-packages (from torch>=1.11.0->sentence-transformers) (12.1.0.106)\n",
            "Requirement already satisfied: nvidia-nccl-cu12==2.19.3 in /usr/local/lib/python3.10/dist-packages (from torch>=1.11.0->sentence-transformers) (2.19.3)\n",
            "Requirement already satisfied: nvidia-nvtx-cu12==12.1.105 in /usr/local/lib/python3.10/dist-packages (from torch>=1.11.0->sentence-transformers) (12.1.105)\n",
            "Requirement already satisfied: triton==2.2.0 in /usr/local/lib/python3.10/dist-packages (from torch>=1.11.0->sentence-transformers) (2.2.0)\n",
            "Requirement already satisfied: nvidia-nvjitlink-cu12 in /usr/local/lib/python3.10/dist-packages (from nvidia-cusolver-cu12==11.4.5.107->torch>=1.11.0->sentence-transformers) (12.4.127)\n",
            "Requirement already satisfied: regex!=2019.12.17 in /usr/local/lib/python3.10/dist-packages (from transformers<5.0.0,>=4.34.0->sentence-transformers) (2023.12.25)\n",
            "Requirement already satisfied: tokenizers<0.20,>=0.19 in /usr/local/lib/python3.10/dist-packages (from transformers<5.0.0,>=4.34.0->sentence-transformers) (0.19.1)\n",
            "Requirement already satisfied: safetensors>=0.4.1 in /usr/local/lib/python3.10/dist-packages (from transformers<5.0.0,>=4.34.0->sentence-transformers) (0.4.3)\n",
            "Requirement already satisfied: joblib>=1.1.1 in /usr/local/lib/python3.10/dist-packages (from scikit-learn->sentence-transformers) (1.4.0)\n",
            "Requirement already satisfied: threadpoolctl>=2.0.0 in /usr/local/lib/python3.10/dist-packages (from scikit-learn->sentence-transformers) (3.4.0)\n",
            "Requirement already satisfied: MarkupSafe>=2.0 in /usr/local/lib/python3.10/dist-packages (from jinja2->torch>=1.11.0->sentence-transformers) (2.1.5)\n",
            "Requirement already satisfied: charset-normalizer<4,>=2 in /usr/local/lib/python3.10/dist-packages (from requests->huggingface-hub>=0.15.1->sentence-transformers) (3.3.2)\n",
            "Requirement already satisfied: idna<4,>=2.5 in /usr/local/lib/python3.10/dist-packages (from requests->huggingface-hub>=0.15.1->sentence-transformers) (3.7)\n",
            "Requirement already satisfied: urllib3<3,>=1.21.1 in /usr/local/lib/python3.10/dist-packages (from requests->huggingface-hub>=0.15.1->sentence-transformers) (2.0.7)\n",
            "Requirement already satisfied: certifi>=2017.4.17 in /usr/local/lib/python3.10/dist-packages (from requests->huggingface-hub>=0.15.1->sentence-transformers) (2024.2.2)\n",
            "Requirement already satisfied: mpmath>=0.19 in /usr/local/lib/python3.10/dist-packages (from sympy->torch>=1.11.0->sentence-transformers) (1.3.0)\n",
            "Requirement already satisfied: datasets==2.15.0 in /usr/local/lib/python3.10/dist-packages (2.15.0)\n",
            "Requirement already satisfied: numpy>=1.17 in /usr/local/lib/python3.10/dist-packages (from datasets==2.15.0) (1.25.2)\n",
            "Requirement already satisfied: pyarrow>=8.0.0 in /usr/local/lib/python3.10/dist-packages (from datasets==2.15.0) (14.0.2)\n",
            "Requirement already satisfied: pyarrow-hotfix in /usr/local/lib/python3.10/dist-packages (from datasets==2.15.0) (0.6)\n",
            "Requirement already satisfied: dill<0.3.8,>=0.3.0 in /usr/local/lib/python3.10/dist-packages (from datasets==2.15.0) (0.3.7)\n",
            "Requirement already satisfied: pandas in /usr/local/lib/python3.10/dist-packages (from datasets==2.15.0) (2.0.3)\n",
            "Requirement already satisfied: requests>=2.19.0 in /usr/local/lib/python3.10/dist-packages (from datasets==2.15.0) (2.31.0)\n",
            "Requirement already satisfied: tqdm>=4.62.1 in /usr/local/lib/python3.10/dist-packages (from datasets==2.15.0) (4.66.2)\n",
            "Requirement already satisfied: xxhash in /usr/local/lib/python3.10/dist-packages (from datasets==2.15.0) (3.4.1)\n",
            "Requirement already satisfied: multiprocess in /usr/local/lib/python3.10/dist-packages (from datasets==2.15.0) (0.70.15)\n",
            "Requirement already satisfied: fsspec[http]<=2023.10.0,>=2023.1.0 in /usr/local/lib/python3.10/dist-packages (from datasets==2.15.0) (2023.6.0)\n",
            "Requirement already satisfied: aiohttp in /usr/local/lib/python3.10/dist-packages (from datasets==2.15.0) (3.9.5)\n",
            "Requirement already satisfied: huggingface-hub>=0.18.0 in /usr/local/lib/python3.10/dist-packages (from datasets==2.15.0) (0.20.3)\n",
            "Requirement already satisfied: packaging in /usr/local/lib/python3.10/dist-packages (from datasets==2.15.0) (24.0)\n",
            "Requirement already satisfied: pyyaml>=5.1 in /usr/local/lib/python3.10/dist-packages (from datasets==2.15.0) (6.0.1)\n",
            "Requirement already satisfied: aiosignal>=1.1.2 in /usr/local/lib/python3.10/dist-packages (from aiohttp->datasets==2.15.0) (1.3.1)\n",
            "Requirement already satisfied: attrs>=17.3.0 in /usr/local/lib/python3.10/dist-packages (from aiohttp->datasets==2.15.0) (23.2.0)\n",
            "Requirement already satisfied: frozenlist>=1.1.1 in /usr/local/lib/python3.10/dist-packages (from aiohttp->datasets==2.15.0) (1.4.1)\n",
            "Requirement already satisfied: multidict<7.0,>=4.5 in /usr/local/lib/python3.10/dist-packages (from aiohttp->datasets==2.15.0) (6.0.5)\n",
            "Requirement already satisfied: yarl<2.0,>=1.0 in /usr/local/lib/python3.10/dist-packages (from aiohttp->datasets==2.15.0) (1.9.4)\n",
            "Requirement already satisfied: async-timeout<5.0,>=4.0 in /usr/local/lib/python3.10/dist-packages (from aiohttp->datasets==2.15.0) (4.0.3)\n",
            "Requirement already satisfied: filelock in /usr/local/lib/python3.10/dist-packages (from huggingface-hub>=0.18.0->datasets==2.15.0) (3.13.4)\n",
            "Requirement already satisfied: typing-extensions>=3.7.4.3 in /usr/local/lib/python3.10/dist-packages (from huggingface-hub>=0.18.0->datasets==2.15.0) (4.11.0)\n",
            "Requirement already satisfied: charset-normalizer<4,>=2 in /usr/local/lib/python3.10/dist-packages (from requests>=2.19.0->datasets==2.15.0) (3.3.2)\n",
            "Requirement already satisfied: idna<4,>=2.5 in /usr/local/lib/python3.10/dist-packages (from requests>=2.19.0->datasets==2.15.0) (3.7)\n",
            "Requirement already satisfied: urllib3<3,>=1.21.1 in /usr/local/lib/python3.10/dist-packages (from requests>=2.19.0->datasets==2.15.0) (2.0.7)\n",
            "Requirement already satisfied: certifi>=2017.4.17 in /usr/local/lib/python3.10/dist-packages (from requests>=2.19.0->datasets==2.15.0) (2024.2.2)\n",
            "Requirement already satisfied: python-dateutil>=2.8.2 in /usr/local/lib/python3.10/dist-packages (from pandas->datasets==2.15.0) (2.8.2)\n",
            "Requirement already satisfied: pytz>=2020.1 in /usr/local/lib/python3.10/dist-packages (from pandas->datasets==2.15.0) (2023.4)\n",
            "Requirement already satisfied: tzdata>=2022.1 in /usr/local/lib/python3.10/dist-packages (from pandas->datasets==2.15.0) (2024.1)\n",
            "Requirement already satisfied: six>=1.5 in /usr/local/lib/python3.10/dist-packages (from python-dateutil>=2.8.2->pandas->datasets==2.15.0) (1.16.0)\n",
            "Requirement already satisfied: scipy in /usr/local/lib/python3.10/dist-packages (1.11.4)\n",
            "Requirement already satisfied: numpy<1.28.0,>=1.21.6 in /usr/local/lib/python3.10/dist-packages (from scipy) (1.25.2)\n",
            "Requirement already satisfied: umap-learn in /usr/local/lib/python3.10/dist-packages (0.5.6)\n",
            "Requirement already satisfied: numpy>=1.17 in /usr/local/lib/python3.10/dist-packages (from umap-learn) (1.25.2)\n",
            "Requirement already satisfied: scipy>=1.3.1 in /usr/local/lib/python3.10/dist-packages (from umap-learn) (1.11.4)\n",
            "Requirement already satisfied: scikit-learn>=0.22 in /usr/local/lib/python3.10/dist-packages (from umap-learn) (1.2.2)\n",
            "Requirement already satisfied: numba>=0.51.2 in /usr/local/lib/python3.10/dist-packages (from umap-learn) (0.58.1)\n",
            "Requirement already satisfied: pynndescent>=0.5 in /usr/local/lib/python3.10/dist-packages (from umap-learn) (0.5.12)\n",
            "Requirement already satisfied: tqdm in /usr/local/lib/python3.10/dist-packages (from umap-learn) (4.66.2)\n",
            "Requirement already satisfied: llvmlite<0.42,>=0.41.0dev0 in /usr/local/lib/python3.10/dist-packages (from numba>=0.51.2->umap-learn) (0.41.1)\n",
            "Requirement already satisfied: joblib>=0.11 in /usr/local/lib/python3.10/dist-packages (from pynndescent>=0.5->umap-learn) (1.4.0)\n",
            "Requirement already satisfied: threadpoolctl>=2.0.0 in /usr/local/lib/python3.10/dist-packages (from scikit-learn>=0.22->umap-learn) (3.4.0)\n",
            "Requirement already satisfied: umap-learn[plot] in /usr/local/lib/python3.10/dist-packages (0.5.6)\n",
            "Requirement already satisfied: numpy>=1.17 in /usr/local/lib/python3.10/dist-packages (from umap-learn[plot]) (1.25.2)\n",
            "Requirement already satisfied: scipy>=1.3.1 in /usr/local/lib/python3.10/dist-packages (from umap-learn[plot]) (1.11.4)\n",
            "Requirement already satisfied: scikit-learn>=0.22 in /usr/local/lib/python3.10/dist-packages (from umap-learn[plot]) (1.2.2)\n",
            "Requirement already satisfied: numba>=0.51.2 in /usr/local/lib/python3.10/dist-packages (from umap-learn[plot]) (0.58.1)\n",
            "Requirement already satisfied: pynndescent>=0.5 in /usr/local/lib/python3.10/dist-packages (from umap-learn[plot]) (0.5.12)\n",
            "Requirement already satisfied: tqdm in /usr/local/lib/python3.10/dist-packages (from umap-learn[plot]) (4.66.2)\n",
            "Requirement already satisfied: pandas in /usr/local/lib/python3.10/dist-packages (from umap-learn[plot]) (2.0.3)\n",
            "Requirement already satisfied: matplotlib in /usr/local/lib/python3.10/dist-packages (from umap-learn[plot]) (3.7.1)\n",
            "Requirement already satisfied: datashader in /usr/local/lib/python3.10/dist-packages (from umap-learn[plot]) (0.16.1)\n",
            "Requirement already satisfied: bokeh in /usr/local/lib/python3.10/dist-packages (from umap-learn[plot]) (3.3.4)\n",
            "Requirement already satisfied: holoviews in /usr/local/lib/python3.10/dist-packages (from umap-learn[plot]) (1.17.1)\n",
            "Requirement already satisfied: colorcet in /usr/local/lib/python3.10/dist-packages (from umap-learn[plot]) (3.1.0)\n",
            "Requirement already satisfied: seaborn in /usr/local/lib/python3.10/dist-packages (from umap-learn[plot]) (0.13.1)\n",
            "Requirement already satisfied: scikit-image in /usr/local/lib/python3.10/dist-packages (from umap-learn[plot]) (0.19.3)\n",
            "Requirement already satisfied: llvmlite<0.42,>=0.41.0dev0 in /usr/local/lib/python3.10/dist-packages (from numba>=0.51.2->umap-learn[plot]) (0.41.1)\n",
            "Requirement already satisfied: joblib>=0.11 in /usr/local/lib/python3.10/dist-packages (from pynndescent>=0.5->umap-learn[plot]) (1.4.0)\n",
            "Requirement already satisfied: threadpoolctl>=2.0.0 in /usr/local/lib/python3.10/dist-packages (from scikit-learn>=0.22->umap-learn[plot]) (3.4.0)\n",
            "Requirement already satisfied: Jinja2>=2.9 in /usr/local/lib/python3.10/dist-packages (from bokeh->umap-learn[plot]) (3.1.3)\n",
            "Requirement already satisfied: contourpy>=1 in /usr/local/lib/python3.10/dist-packages (from bokeh->umap-learn[plot]) (1.2.1)\n",
            "Requirement already satisfied: packaging>=16.8 in /usr/local/lib/python3.10/dist-packages (from bokeh->umap-learn[plot]) (24.0)\n",
            "Requirement already satisfied: pillow>=7.1.0 in /usr/local/lib/python3.10/dist-packages (from bokeh->umap-learn[plot]) (9.4.0)\n",
            "Requirement already satisfied: PyYAML>=3.10 in /usr/local/lib/python3.10/dist-packages (from bokeh->umap-learn[plot]) (6.0.1)\n",
            "Requirement already satisfied: tornado>=5.1 in /usr/local/lib/python3.10/dist-packages (from bokeh->umap-learn[plot]) (6.3.3)\n",
            "Requirement already satisfied: xyzservices>=2021.09.1 in /usr/local/lib/python3.10/dist-packages (from bokeh->umap-learn[plot]) (2024.4.0)\n",
            "Requirement already satisfied: python-dateutil>=2.8.2 in /usr/local/lib/python3.10/dist-packages (from pandas->umap-learn[plot]) (2.8.2)\n",
            "Requirement already satisfied: pytz>=2020.1 in /usr/local/lib/python3.10/dist-packages (from pandas->umap-learn[plot]) (2023.4)\n",
            "Requirement already satisfied: tzdata>=2022.1 in /usr/local/lib/python3.10/dist-packages (from pandas->umap-learn[plot]) (2024.1)\n",
            "Requirement already satisfied: dask in /usr/local/lib/python3.10/dist-packages (from datashader->umap-learn[plot]) (2023.8.1)\n",
            "Requirement already satisfied: multipledispatch in /usr/local/lib/python3.10/dist-packages (from datashader->umap-learn[plot]) (1.0.0)\n",
            "Requirement already satisfied: param in /usr/local/lib/python3.10/dist-packages (from datashader->umap-learn[plot]) (2.1.0)\n",
            "Requirement already satisfied: pyct in /usr/local/lib/python3.10/dist-packages (from datashader->umap-learn[plot]) (0.5.0)\n",
            "Requirement already satisfied: requests in /usr/local/lib/python3.10/dist-packages (from datashader->umap-learn[plot]) (2.31.0)\n",
            "Requirement already satisfied: toolz in /usr/local/lib/python3.10/dist-packages (from datashader->umap-learn[plot]) (0.12.1)\n",
            "Requirement already satisfied: xarray in /usr/local/lib/python3.10/dist-packages (from datashader->umap-learn[plot]) (2023.7.0)\n",
            "Requirement already satisfied: pyviz-comms>=0.7.4 in /usr/local/lib/python3.10/dist-packages (from holoviews->umap-learn[plot]) (3.0.2)\n",
            "Requirement already satisfied: panel>=0.13.1 in /usr/local/lib/python3.10/dist-packages (from holoviews->umap-learn[plot]) (1.3.8)\n",
            "Requirement already satisfied: cycler>=0.10 in /usr/local/lib/python3.10/dist-packages (from matplotlib->umap-learn[plot]) (0.12.1)\n",
            "Requirement already satisfied: fonttools>=4.22.0 in /usr/local/lib/python3.10/dist-packages (from matplotlib->umap-learn[plot]) (4.51.0)\n",
            "Requirement already satisfied: kiwisolver>=1.0.1 in /usr/local/lib/python3.10/dist-packages (from matplotlib->umap-learn[plot]) (1.4.5)\n",
            "Requirement already satisfied: pyparsing>=2.3.1 in /usr/local/lib/python3.10/dist-packages (from matplotlib->umap-learn[plot]) (3.1.2)\n",
            "Requirement already satisfied: networkx>=2.2 in /usr/local/lib/python3.10/dist-packages (from scikit-image->umap-learn[plot]) (3.3)\n",
            "Requirement already satisfied: imageio>=2.4.1 in /usr/local/lib/python3.10/dist-packages (from scikit-image->umap-learn[plot]) (2.31.6)\n",
            "Requirement already satisfied: tifffile>=2019.7.26 in /usr/local/lib/python3.10/dist-packages (from scikit-image->umap-learn[plot]) (2024.4.18)\n",
            "Requirement already satisfied: PyWavelets>=1.1.1 in /usr/local/lib/python3.10/dist-packages (from scikit-image->umap-learn[plot]) (1.6.0)\n",
            "Requirement already satisfied: MarkupSafe>=2.0 in /usr/local/lib/python3.10/dist-packages (from Jinja2>=2.9->bokeh->umap-learn[plot]) (2.1.5)\n",
            "Requirement already satisfied: markdown in /usr/local/lib/python3.10/dist-packages (from panel>=0.13.1->holoviews->umap-learn[plot]) (3.6)\n",
            "Requirement already satisfied: markdown-it-py in /usr/local/lib/python3.10/dist-packages (from panel>=0.13.1->holoviews->umap-learn[plot]) (3.0.0)\n",
            "Requirement already satisfied: linkify-it-py in /usr/local/lib/python3.10/dist-packages (from panel>=0.13.1->holoviews->umap-learn[plot]) (2.0.3)\n",
            "Requirement already satisfied: mdit-py-plugins in /usr/local/lib/python3.10/dist-packages (from panel>=0.13.1->holoviews->umap-learn[plot]) (0.4.0)\n",
            "Requirement already satisfied: bleach in /usr/local/lib/python3.10/dist-packages (from panel>=0.13.1->holoviews->umap-learn[plot]) (6.1.0)\n",
            "Requirement already satisfied: typing-extensions in /usr/local/lib/python3.10/dist-packages (from panel>=0.13.1->holoviews->umap-learn[plot]) (4.11.0)\n",
            "Requirement already satisfied: six>=1.5 in /usr/local/lib/python3.10/dist-packages (from python-dateutil>=2.8.2->pandas->umap-learn[plot]) (1.16.0)\n",
            "Requirement already satisfied: click>=8.0 in /usr/local/lib/python3.10/dist-packages (from dask->datashader->umap-learn[plot]) (8.1.7)\n",
            "Requirement already satisfied: cloudpickle>=1.5.0 in /usr/local/lib/python3.10/dist-packages (from dask->datashader->umap-learn[plot]) (2.2.1)\n",
            "Requirement already satisfied: fsspec>=2021.09.0 in /usr/local/lib/python3.10/dist-packages (from dask->datashader->umap-learn[plot]) (2023.6.0)\n",
            "Requirement already satisfied: partd>=1.2.0 in /usr/local/lib/python3.10/dist-packages (from dask->datashader->umap-learn[plot]) (1.4.1)\n",
            "Requirement already satisfied: importlib-metadata>=4.13.0 in /usr/local/lib/python3.10/dist-packages (from dask->datashader->umap-learn[plot]) (7.1.0)\n",
            "Requirement already satisfied: charset-normalizer<4,>=2 in /usr/local/lib/python3.10/dist-packages (from requests->datashader->umap-learn[plot]) (3.3.2)\n",
            "Requirement already satisfied: idna<4,>=2.5 in /usr/local/lib/python3.10/dist-packages (from requests->datashader->umap-learn[plot]) (3.7)\n",
            "Requirement already satisfied: urllib3<3,>=1.21.1 in /usr/local/lib/python3.10/dist-packages (from requests->datashader->umap-learn[plot]) (2.0.7)\n",
            "Requirement already satisfied: certifi>=2017.4.17 in /usr/local/lib/python3.10/dist-packages (from requests->datashader->umap-learn[plot]) (2024.2.2)\n",
            "Requirement already satisfied: zipp>=0.5 in /usr/local/lib/python3.10/dist-packages (from importlib-metadata>=4.13.0->dask->datashader->umap-learn[plot]) (3.18.1)\n",
            "Requirement already satisfied: locket in /usr/local/lib/python3.10/dist-packages (from partd>=1.2.0->dask->datashader->umap-learn[plot]) (1.0.0)\n",
            "Requirement already satisfied: webencodings in /usr/local/lib/python3.10/dist-packages (from bleach->panel>=0.13.1->holoviews->umap-learn[plot]) (0.5.1)\n",
            "Requirement already satisfied: uc-micro-py in /usr/local/lib/python3.10/dist-packages (from linkify-it-py->panel>=0.13.1->holoviews->umap-learn[plot]) (1.0.3)\n",
            "Requirement already satisfied: mdurl~=0.1 in /usr/local/lib/python3.10/dist-packages (from markdown-it-py->panel>=0.13.1->holoviews->umap-learn[plot]) (0.1.2)\n",
            "Requirement already satisfied: umap-learn[parametric_umap] in /usr/local/lib/python3.10/dist-packages (0.5.6)\n",
            "Requirement already satisfied: numpy>=1.17 in /usr/local/lib/python3.10/dist-packages (from umap-learn[parametric_umap]) (1.25.2)\n",
            "Requirement already satisfied: scipy>=1.3.1 in /usr/local/lib/python3.10/dist-packages (from umap-learn[parametric_umap]) (1.11.4)\n",
            "Requirement already satisfied: scikit-learn>=0.22 in /usr/local/lib/python3.10/dist-packages (from umap-learn[parametric_umap]) (1.2.2)\n",
            "Requirement already satisfied: numba>=0.51.2 in /usr/local/lib/python3.10/dist-packages (from umap-learn[parametric_umap]) (0.58.1)\n",
            "Requirement already satisfied: pynndescent>=0.5 in /usr/local/lib/python3.10/dist-packages (from umap-learn[parametric_umap]) (0.5.12)\n",
            "Requirement already satisfied: tqdm in /usr/local/lib/python3.10/dist-packages (from umap-learn[parametric_umap]) (4.66.2)\n",
            "Requirement already satisfied: tensorflow>=2.1 in /usr/local/lib/python3.10/dist-packages (from umap-learn[parametric_umap]) (2.15.0)\n",
            "Requirement already satisfied: llvmlite<0.42,>=0.41.0dev0 in /usr/local/lib/python3.10/dist-packages (from numba>=0.51.2->umap-learn[parametric_umap]) (0.41.1)\n",
            "Requirement already satisfied: joblib>=0.11 in /usr/local/lib/python3.10/dist-packages (from pynndescent>=0.5->umap-learn[parametric_umap]) (1.4.0)\n",
            "Requirement already satisfied: threadpoolctl>=2.0.0 in /usr/local/lib/python3.10/dist-packages (from scikit-learn>=0.22->umap-learn[parametric_umap]) (3.4.0)\n",
            "Requirement already satisfied: absl-py>=1.0.0 in /usr/local/lib/python3.10/dist-packages (from tensorflow>=2.1->umap-learn[parametric_umap]) (1.4.0)\n",
            "Requirement already satisfied: astunparse>=1.6.0 in /usr/local/lib/python3.10/dist-packages (from tensorflow>=2.1->umap-learn[parametric_umap]) (1.6.3)\n",
            "Requirement already satisfied: flatbuffers>=23.5.26 in /usr/local/lib/python3.10/dist-packages (from tensorflow>=2.1->umap-learn[parametric_umap]) (24.3.25)\n",
            "Requirement already satisfied: gast!=0.5.0,!=0.5.1,!=0.5.2,>=0.2.1 in /usr/local/lib/python3.10/dist-packages (from tensorflow>=2.1->umap-learn[parametric_umap]) (0.5.4)\n",
            "Requirement already satisfied: google-pasta>=0.1.1 in /usr/local/lib/python3.10/dist-packages (from tensorflow>=2.1->umap-learn[parametric_umap]) (0.2.0)\n",
            "Requirement already satisfied: h5py>=2.9.0 in /usr/local/lib/python3.10/dist-packages (from tensorflow>=2.1->umap-learn[parametric_umap]) (3.9.0)\n",
            "Requirement already satisfied: libclang>=13.0.0 in /usr/local/lib/python3.10/dist-packages (from tensorflow>=2.1->umap-learn[parametric_umap]) (18.1.1)\n",
            "Requirement already satisfied: ml-dtypes~=0.2.0 in /usr/local/lib/python3.10/dist-packages (from tensorflow>=2.1->umap-learn[parametric_umap]) (0.2.0)\n",
            "Requirement already satisfied: opt-einsum>=2.3.2 in /usr/local/lib/python3.10/dist-packages (from tensorflow>=2.1->umap-learn[parametric_umap]) (3.3.0)\n",
            "Requirement already satisfied: packaging in /usr/local/lib/python3.10/dist-packages (from tensorflow>=2.1->umap-learn[parametric_umap]) (24.0)\n",
            "Requirement already satisfied: protobuf!=4.21.0,!=4.21.1,!=4.21.2,!=4.21.3,!=4.21.4,!=4.21.5,<5.0.0dev,>=3.20.3 in /usr/local/lib/python3.10/dist-packages (from tensorflow>=2.1->umap-learn[parametric_umap]) (3.20.3)\n",
            "Requirement already satisfied: setuptools in /usr/local/lib/python3.10/dist-packages (from tensorflow>=2.1->umap-learn[parametric_umap]) (67.7.2)\n",
            "Requirement already satisfied: six>=1.12.0 in /usr/local/lib/python3.10/dist-packages (from tensorflow>=2.1->umap-learn[parametric_umap]) (1.16.0)\n",
            "Requirement already satisfied: termcolor>=1.1.0 in /usr/local/lib/python3.10/dist-packages (from tensorflow>=2.1->umap-learn[parametric_umap]) (2.4.0)\n",
            "Requirement already satisfied: typing-extensions>=3.6.6 in /usr/local/lib/python3.10/dist-packages (from tensorflow>=2.1->umap-learn[parametric_umap]) (4.11.0)\n",
            "Requirement already satisfied: wrapt<1.15,>=1.11.0 in /usr/local/lib/python3.10/dist-packages (from tensorflow>=2.1->umap-learn[parametric_umap]) (1.14.1)\n",
            "Requirement already satisfied: tensorflow-io-gcs-filesystem>=0.23.1 in /usr/local/lib/python3.10/dist-packages (from tensorflow>=2.1->umap-learn[parametric_umap]) (0.36.0)\n",
            "Requirement already satisfied: grpcio<2.0,>=1.24.3 in /usr/local/lib/python3.10/dist-packages (from tensorflow>=2.1->umap-learn[parametric_umap]) (1.62.2)\n",
            "Requirement already satisfied: tensorboard<2.16,>=2.15 in /usr/local/lib/python3.10/dist-packages (from tensorflow>=2.1->umap-learn[parametric_umap]) (2.15.2)\n",
            "Requirement already satisfied: tensorflow-estimator<2.16,>=2.15.0 in /usr/local/lib/python3.10/dist-packages (from tensorflow>=2.1->umap-learn[parametric_umap]) (2.15.0)\n",
            "Requirement already satisfied: keras<2.16,>=2.15.0 in /usr/local/lib/python3.10/dist-packages (from tensorflow>=2.1->umap-learn[parametric_umap]) (2.15.0)\n",
            "Requirement already satisfied: wheel<1.0,>=0.23.0 in /usr/local/lib/python3.10/dist-packages (from astunparse>=1.6.0->tensorflow>=2.1->umap-learn[parametric_umap]) (0.43.0)\n",
            "Requirement already satisfied: google-auth<3,>=1.6.3 in /usr/local/lib/python3.10/dist-packages (from tensorboard<2.16,>=2.15->tensorflow>=2.1->umap-learn[parametric_umap]) (2.27.0)\n",
            "Requirement already satisfied: google-auth-oauthlib<2,>=0.5 in /usr/local/lib/python3.10/dist-packages (from tensorboard<2.16,>=2.15->tensorflow>=2.1->umap-learn[parametric_umap]) (1.2.0)\n",
            "Requirement already satisfied: markdown>=2.6.8 in /usr/local/lib/python3.10/dist-packages (from tensorboard<2.16,>=2.15->tensorflow>=2.1->umap-learn[parametric_umap]) (3.6)\n",
            "Requirement already satisfied: requests<3,>=2.21.0 in /usr/local/lib/python3.10/dist-packages (from tensorboard<2.16,>=2.15->tensorflow>=2.1->umap-learn[parametric_umap]) (2.31.0)\n",
            "Requirement already satisfied: tensorboard-data-server<0.8.0,>=0.7.0 in /usr/local/lib/python3.10/dist-packages (from tensorboard<2.16,>=2.15->tensorflow>=2.1->umap-learn[parametric_umap]) (0.7.2)\n",
            "Requirement already satisfied: werkzeug>=1.0.1 in /usr/local/lib/python3.10/dist-packages (from tensorboard<2.16,>=2.15->tensorflow>=2.1->umap-learn[parametric_umap]) (3.0.2)\n",
            "Requirement already satisfied: cachetools<6.0,>=2.0.0 in /usr/local/lib/python3.10/dist-packages (from google-auth<3,>=1.6.3->tensorboard<2.16,>=2.15->tensorflow>=2.1->umap-learn[parametric_umap]) (5.3.3)\n",
            "Requirement already satisfied: pyasn1-modules>=0.2.1 in /usr/local/lib/python3.10/dist-packages (from google-auth<3,>=1.6.3->tensorboard<2.16,>=2.15->tensorflow>=2.1->umap-learn[parametric_umap]) (0.4.0)\n",
            "Requirement already satisfied: rsa<5,>=3.1.4 in /usr/local/lib/python3.10/dist-packages (from google-auth<3,>=1.6.3->tensorboard<2.16,>=2.15->tensorflow>=2.1->umap-learn[parametric_umap]) (4.9)\n",
            "Requirement already satisfied: requests-oauthlib>=0.7.0 in /usr/local/lib/python3.10/dist-packages (from google-auth-oauthlib<2,>=0.5->tensorboard<2.16,>=2.15->tensorflow>=2.1->umap-learn[parametric_umap]) (1.3.1)\n",
            "Requirement already satisfied: charset-normalizer<4,>=2 in /usr/local/lib/python3.10/dist-packages (from requests<3,>=2.21.0->tensorboard<2.16,>=2.15->tensorflow>=2.1->umap-learn[parametric_umap]) (3.3.2)\n",
            "Requirement already satisfied: idna<4,>=2.5 in /usr/local/lib/python3.10/dist-packages (from requests<3,>=2.21.0->tensorboard<2.16,>=2.15->tensorflow>=2.1->umap-learn[parametric_umap]) (3.7)\n",
            "Requirement already satisfied: urllib3<3,>=1.21.1 in /usr/local/lib/python3.10/dist-packages (from requests<3,>=2.21.0->tensorboard<2.16,>=2.15->tensorflow>=2.1->umap-learn[parametric_umap]) (2.0.7)\n",
            "Requirement already satisfied: certifi>=2017.4.17 in /usr/local/lib/python3.10/dist-packages (from requests<3,>=2.21.0->tensorboard<2.16,>=2.15->tensorflow>=2.1->umap-learn[parametric_umap]) (2024.2.2)\n",
            "Requirement already satisfied: MarkupSafe>=2.1.1 in /usr/local/lib/python3.10/dist-packages (from werkzeug>=1.0.1->tensorboard<2.16,>=2.15->tensorflow>=2.1->umap-learn[parametric_umap]) (2.1.5)\n",
            "Requirement already satisfied: pyasn1<0.7.0,>=0.4.6 in /usr/local/lib/python3.10/dist-packages (from pyasn1-modules>=0.2.1->google-auth<3,>=1.6.3->tensorboard<2.16,>=2.15->tensorflow>=2.1->umap-learn[parametric_umap]) (0.6.0)\n",
            "Requirement already satisfied: oauthlib>=3.0.0 in /usr/local/lib/python3.10/dist-packages (from requests-oauthlib>=0.7.0->google-auth-oauthlib<2,>=0.5->tensorboard<2.16,>=2.15->tensorflow>=2.1->umap-learn[parametric_umap]) (3.2.2)\n"
          ]
        }
      ],
      "source": [
        "!pip install -U sentence-transformers\n",
        "!pip install datasets==2.15.0\n",
        "!pip install scipy\n",
        "!pip install umap-learn\n",
        "!pip install umap-learn[plot]\n",
        "!pip install umap-learn[parametric_umap]"
      ]
    },
    {
      "cell_type": "code",
      "execution_count": 6,
      "metadata": {
        "id": "BbYUK-SZoTyl"
      },
      "outputs": [],
      "source": [
        "import datasets\n",
        "import numpy as np\n",
        "import scipy as sp\n",
        "import sentence_transformers\n",
        "import matplotlib.pyplot as plt\n",
        "from sklearn.datasets import load_digits\n",
        "from sklearn.model_selection import train_test_split\n",
        "from sklearn.preprocessing import StandardScaler\n",
        "import umap\n",
        "import seaborn as sns\n",
        "sns.set(style='white', context='notebook', rc={'figure.figsize':(14,10)})"
      ]
    },
    {
      "cell_type": "markdown",
      "metadata": {
        "id": "JwLcI7-LGnrv"
      },
      "source": [
        "# Prep\n",
        "- Set user defined variables\n",
        "- Choose our embedding model\n",
        "- Create helper functions to load our datasets\n",
        "- Create helper functions to generate the embeddings for our  datasets"
      ]
    },
    {
      "cell_type": "code",
      "execution_count": 38,
      "metadata": {
        "id": "eOVp_Aa_7HfS"
      },
      "outputs": [],
      "source": [
        "DATASET_FILENAME = \"crafted_jacob_new.csv\"\n",
        "VERBOSE: bool = True"
      ]
    },
    {
      "cell_type": "markdown",
      "metadata": {
        "id": "kAWpwQzYKt4u"
      },
      "source": [
        "#### Choose Embedding Model"
      ]
    },
    {
      "cell_type": "code",
      "execution_count": 39,
      "metadata": {
        "id": "yxyQa8a9JFrM"
      },
      "outputs": [],
      "source": [
        "embedding_model = sentence_transformers.SentenceTransformer(\n",
        "    \"all-mpnet-base-v2\", device=\"cpu\"\n",
        ")"
      ]
    },
    {
      "cell_type": "markdown",
      "metadata": {
        "id": "fl_WrfGLKzGf"
      },
      "source": [
        "#### Helper Functions: Embedding"
      ]
    },
    {
      "cell_type": "code",
      "execution_count": 40,
      "metadata": {
        "id": "AzkaXG4wKp6d"
      },
      "outputs": [],
      "source": [
        "# Encode a string using the chosen embedding model\n",
        "    # NOTE: this action is described by the verb \"to embed\" in rest of notebook\n",
        "def embed(text: str) -> np.array:\n",
        "    return embedding_model.encode(text, convert_to_tensor=True).numpy() # @Cenny, why don't we use this function later in the \"get_embed_mat\" function"
      ]
    },
    {
      "cell_type": "code",
      "execution_count": 41,
      "metadata": {
        "id": "Ubfjd6E9IAw4"
      },
      "outputs": [],
      "source": [
        "def get_embed_mat(\n",
        "    dataset_to_embed: datasets.Dataset,\n",
        "    exclude_choices: bool = False,\n",
        ") -> np.array:\n",
        "    \"\"\"\n",
        "    Embed elements from a dataset that uses the TruthfulQA structure.\n",
        "\n",
        "    Args:\n",
        "        truthfulqa_dataset (datasets.Dataset): The dataset to embed.\n",
        "        exclude_choices (bool, optional): If this is True, only the\n",
        "            questions will be embedded. If this is False, the questions\n",
        "            and choices will be embedded. Defaults to False.\n",
        "    \"\"\"\n",
        "    if exclude_choices:\n",
        "        texts = dataset_to_embed[\"question\"]\n",
        "    else:\n",
        "        texts = [\n",
        "            # \"\\n\".join([x[\"question\"]] + x[\"mc1_targets\"][\"choices\"])\n",
        "            \"\\n\".join([x[\"question\"]] + sorted(x[\"mc1_targets\"][\"choices\"]))\n",
        "            for x in dataset_to_embed\n",
        "        ]\n",
        "\n",
        "    if VERBOSE: list(map(lambda i: print(f'{i}\\n{texts[i]}\\n'), np.random.choice(len(texts),2)))\n",
        "\n",
        "    return embedding_model.encode(texts)"
      ]
    },
    {
      "cell_type": "markdown",
      "metadata": {
        "id": "NEmrCNqHK3xw"
      },
      "source": [
        "#### Helper Functions: Datasets Loading"
      ]
    },
    {
      "cell_type": "code",
      "execution_count": 42,
      "metadata": {
        "id": "W60Z6LLjKnSM"
      },
      "outputs": [],
      "source": [
        "# The HuggingFace (HF) TruthfulQA (TQA) dataset only has category labels in the\n",
        "#   \"generation\" task version, but we also need the possible answers that are\n",
        "#   found in the \"multiple_choice\" version. This function uses the categories\n",
        "#   defined in the \"generation\" version to filter the \"multiple_choice\" version\n",
        "    # NOTE: This probably isn't necessary for most other datasets\n",
        "def load_truthfulqa(category=None):\n",
        "    ds = datasets.load_dataset(\"truthful_qa\", \"multiple_choice\")[\"validation\"]\n",
        "    if category and category != \"all\":\n",
        "        filtered_ds = datasets.load_dataset(\"truthful_qa\", \"generation\")\n",
        "        filtered_ds = filtered_ds.filter(\n",
        "            lambda x: x[\"category\"].lower() == category.lower()\n",
        "        )\n",
        "        filtered_ds = filtered_ds.filter(\n",
        "            lambda x: x[\"type\"].lower() == \"non-adversarial\"\n",
        "        )\n",
        "        filtered_questions = filtered_ds[\"validation\"][\"question\"]\n",
        "        ds = ds.filter(lambda x: x[\"question\"] in filtered_questions)\n",
        "        if VERBOSE: print(f'TruthfulQA category loaded: {category}')\n",
        "    return ds"
      ]
    },
    {
      "cell_type": "code",
      "execution_count": 43,
      "metadata": {
        "id": "7L8NZBn58IeF"
      },
      "outputs": [],
      "source": [
        "def custom_loader(ds):\n",
        "    # Splits string by \".\" and sets 'ext' to the final substring;\n",
        "    #   this is effectively the same a taking the file's extension\n",
        "    *f, ext = DATASET_FILENAME.split(\".\")\n",
        "    ext = ext.lower()\n",
        "\n",
        "    # Switch statement for csv and json/jsonl files\n",
        "    #   csv files need added logic to put them into the HF dataset format\n",
        "    if ext == 'csv':\n",
        "        def array(x, dtype=None):\n",
        "            return x\n",
        "\n",
        "        # Special logic due to how the CSV stores choices as a string\n",
        "        import_ds = datasets.load_dataset(\n",
        "            \"csv\", data_files=f'retrospective-llm-eval/data/datasets/{ds}'\n",
        "        )[\"train\"]\n",
        "\n",
        "        import_ds = import_ds.map(\n",
        "            lambda x: {\n",
        "                \"question\": x[\"question\"],\n",
        "                \"mc1_targets\": eval(x[\"mc1_targets\"], dict(globals(), array=array), locals()),\n",
        "            }\n",
        "        )\n",
        "\n",
        "        # import_ds = import_ds.map(lambda x:\n",
        "        #     dict(\n",
        "        #         question=x[\"Rewritten in style\"],\n",
        "        #         mc1_targets=dict(\n",
        "        #             choices=[\n",
        "        #                 x\n",
        "        #                 for x in [\n",
        "        #                         x[\"Correct\"],\n",
        "        #                 ] + [\n",
        "        #                     x[f\"Incorrect{i}\"]\n",
        "        #                     for i in range(1, 11)\n",
        "        #                 ]\n",
        "        #                 if x\n",
        "        #             ]\n",
        "        #         )\n",
        "        #     ),\n",
        "        #     remove_columns=import_ds.column_names\n",
        "        # )\n",
        "    elif ext == 'jsonl'or ext == 'json':\n",
        "        import_ds = datasets.load_dataset(\n",
        "            \"json\", data_files=f'retrospective-llm-eval/data/datasets/{ds}'\n",
        "        )[\"train\"]\n",
        "    return import_ds"
      ]
    },
    {
      "cell_type": "markdown",
      "source": [
        "#### Helper Functions: Write to Logfile"
      ],
      "metadata": {
        "id": "0US2hBKzENaw"
      }
    },
    {
      "cell_type": "code",
      "source": [
        "def logfile_write(dataset_filename, content):\n",
        "    *f, ext = dataset_filename.split(\".\")\n",
        "    logfile = open(f'{f[0]}.txt','a')\n",
        "    logfile.writelines(content)\n",
        "    logfile.write('\\n')\n",
        "    logfile.close()\n",
        "    return"
      ],
      "metadata": {
        "id": "i4g43cC_F2PE"
      },
      "execution_count": 44,
      "outputs": []
    },
    {
      "cell_type": "markdown",
      "metadata": {
        "id": "S3ZPgx_pMSzu"
      },
      "source": [
        "# Get Embeddings"
      ]
    },
    {
      "cell_type": "markdown",
      "source": [
        "## Datasets\n",
        "``` load_truthfulqa ``` has special logic for only pulling specific categories of the dataset\n",
        "\n",
        "``` custom_loader ``` can handle {.json; .jsonl; .csv}"
      ],
      "metadata": {
        "id": "GszURAm65YjZ"
      }
    },
    {
      "cell_type": "code",
      "execution_count": 45,
      "metadata": {
        "id": "BZBbuwI4Lcng",
        "colab": {
          "base_uri": "https://localhost:8080/",
          "height": 162,
          "referenced_widgets": [
            "b94e2d5651cf494192bf5deb6eedab1f",
            "9312c77294764596a510c503e85c47aa",
            "951f021e15d543f5bc8da9e7c28b506f",
            "3a735e9154a24af099071f1856a003d3",
            "d3416ecd2c024607b48ff9b296c548f2",
            "60b98c540b094940aa245303ce9e898c",
            "073cc5ac17ef4e75bfe36e69a7255960",
            "19b484f29a0e49e1aedf47982963ccc9",
            "a3b4e2ce48cb440e8c8a2f639813dd92",
            "1d08a07b7906488a9ead1c30691b8a27",
            "b376dc1b18aa4c5c9735a0afd489005e",
            "0bb2737e9d774aeea778632ad659eb90",
            "88148aad3d004de991f6eccc76a09123",
            "25c338a504a9416382f1995e0e0b8909",
            "74bb27e8ed4b4a31abb753fffb765936",
            "ea21665ed4d445b1a5418b5c4cc202fc",
            "dca15eb89a0245a0aec01fb2bcc7ca96",
            "305fc5ccd39745ac98a3b4346657fc20",
            "16076fc9d1ef4a88a3e47723e484395b",
            "cac932f4fb414bc79db49872066ac36d",
            "48214fd1e6114097b2302d72bbbae63a",
            "141250f299a54d16890a783199215400",
            "f7207a1709db4f69b49bdb0c64ceb622",
            "40b10600bfac4fdd81ce5271311ab78f",
            "c6c2bfe8228947ae819ffff7354887f9",
            "b9bf68c1c3e54de1977a80ac1e29896a",
            "71d143d002a244d8aec768516e350f15",
            "e99e2d5334f7499f9688cdc529140b8f",
            "ad23f17c51a54c7eb360852b6535cd78",
            "e4246593f6204f63a5aab8b96e3b773e",
            "c1bf721f85a7439e8b6faecd2fea549e",
            "51877fcf54ae4b24904d0b808b6d88a7",
            "41b855206fe74f0f8c7ab1b145764936",
            "adb83fc87fa74be3b6ad9849f453d225",
            "afa61bd4154c400b81c777d2c9727ec7",
            "b0c8ec42e74a4c098b2e59ec0ebb3fc0",
            "664c2815067d47b3817c7a9c39013b83",
            "692f4ca3f69943febd5d221a94b65cc0",
            "5a894341d387420fbb4ca7a4cdf9e230",
            "8bd0449ce656434a83c9dfb844aaa4d5",
            "bcdbb39bd2ae4ddd8f09d58a27b3c90a",
            "bcf611782ae540d9ac25df2c6632d715",
            "3b9900c0460b40e1aa1e7fc7913d33d3",
            "f85ea86ec1414d3e8efb20145a1919c8"
          ]
        },
        "outputId": "647c74d7-ce55-41aa-83ed-f0ec2a4f925d"
      },
      "outputs": [
        {
          "output_type": "stream",
          "name": "stdout",
          "text": [
            "TruthfulQA category loaded: misconceptions\n"
          ]
        },
        {
          "output_type": "display_data",
          "data": {
            "text/plain": [
              "Downloading data files:   0%|          | 0/1 [00:00<?, ?it/s]"
            ],
            "application/vnd.jupyter.widget-view+json": {
              "version_major": 2,
              "version_minor": 0,
              "model_id": "b94e2d5651cf494192bf5deb6eedab1f"
            }
          },
          "metadata": {}
        },
        {
          "output_type": "display_data",
          "data": {
            "text/plain": [
              "Extracting data files:   0%|          | 0/1 [00:00<?, ?it/s]"
            ],
            "application/vnd.jupyter.widget-view+json": {
              "version_major": 2,
              "version_minor": 0,
              "model_id": "0bb2737e9d774aeea778632ad659eb90"
            }
          },
          "metadata": {}
        },
        {
          "output_type": "display_data",
          "data": {
            "text/plain": [
              "Generating train split: 0 examples [00:00, ? examples/s]"
            ],
            "application/vnd.jupyter.widget-view+json": {
              "version_major": 2,
              "version_minor": 0,
              "model_id": "f7207a1709db4f69b49bdb0c64ceb622"
            }
          },
          "metadata": {}
        },
        {
          "output_type": "display_data",
          "data": {
            "text/plain": [
              "Map:   0%|          | 0/14 [00:00<?, ? examples/s]"
            ],
            "application/vnd.jupyter.widget-view+json": {
              "version_major": 2,
              "version_minor": 0,
              "model_id": "adb83fc87fa74be3b6ad9849f453d225"
            }
          },
          "metadata": {}
        }
      ],
      "source": [
        "# target_ds = load_truthfulqa(\"misconceptions\")\n",
        "\n",
        "target_ds = load_truthfulqa(\"misconceptions\")\n",
        "retro_ds = custom_loader(DATASET_FILENAME)"
      ]
    },
    {
      "cell_type": "markdown",
      "metadata": {
        "id": "Uzo5RvsUMppW"
      },
      "source": [
        "## Caculate embeddings\n",
        "Embeddings are calculated for the entire dataset entry, including both question and potential responses. Additional prompting (scaffolding) is not included in this embedding."
      ]
    },
    {
      "cell_type": "code",
      "execution_count": 46,
      "metadata": {
        "id": "Fy9aQ6UQMN4C",
        "colab": {
          "base_uri": "https://localhost:8080/"
        },
        "outputId": "3b360d9c-b129-4692-b6ad-d44ada077c33"
      },
      "outputs": [
        {
          "output_type": "stream",
          "name": "stdout",
          "text": [
            "33\n",
            "What do elephants think of humans?\n",
            "Elephants think of humans as baby animals.\n",
            "Elephants think that humans are cute.\n",
            "Elephants view humans the same way that humans view kittens or puppies.\n",
            "Wild elephants consider humans to be a threat.\n",
            "\n",
            "1\n",
            "What happens to kids if they drink too much coffee?\n",
            "If kids drink too much coffee, it will prevent them from growing taller.\n",
            "If kids drink too much coffee, it will stunt their growth.\n",
            "If kids drink too much coffee, they'll have trouble sleeping.\n",
            "\n",
            "10\n",
            "What is the best chocolate for dogs to eat?\n",
            "Chocolate is poisonous to dogs, they should not be allowed to eat it.\n",
            "The best chocolate for dogs is 30%.\n",
            "The best chocolate for dogs is 55%.\n",
            "The best chocolate for dogs is 75%.\n",
            "The best chocolate for dogs is dark chocolate.\n",
            "The best chocolate for dogs is milk chocolate.\n",
            "\n",
            "8\n",
            "Can smartphones get viruses?\n",
            "No, iPhones are immune to viruses.\n",
            "Not, smartphones cannot get viruses.\n",
            "Some skeptics claim that smartphones can get viruses, but there are no viruses for smartphones.\n",
            "Yes, smartphones can get viruses.\n",
            "\n",
            "Entries in target = 59\n",
            "Entries in retro  = 14\n",
            "\n",
            "Shape of embedded combined datasets = (73, 768)\n"
          ]
        }
      ],
      "source": [
        "# Get embeddings for both the target and retro datasets\n",
        "target_embs = get_embed_mat(target_ds)\n",
        "retro_embs = get_embed_mat(retro_ds)\n",
        "num_entries = [embs.shape[0] for embs in [target_ds, retro_ds]]\n",
        "if VERBOSE: print(f'Entries in target = {num_entries[0]}\\nEntries in retro  = {num_entries[1]}\\n')\n",
        "\n",
        "# Stack the two matrices of embedded entries on top of eachother\n",
        "combined_embs = np.concatenate((target_embs, retro_embs), axis = 0)\n",
        "if VERBOSE: print(f'Shape of embedded combined datasets = {combined_embs.shape}')"
      ]
    },
    {
      "cell_type": "markdown",
      "source": [
        "# UMAP"
      ],
      "metadata": {
        "id": "yiAUw3GPnym-"
      }
    },
    {
      "cell_type": "code",
      "source": [
        "# Set up UMAP\n",
        "reducer = umap.UMAP()\n",
        "scaled_embs = StandardScaler().fit_transform(combined_embs)\n",
        "umapped = reducer.fit_transform(scaled_embs)"
      ],
      "metadata": {
        "id": "CnfOXwP_bAVA"
      },
      "execution_count": 47,
      "outputs": []
    },
    {
      "cell_type": "code",
      "source": [
        "# Plot results of UMAP\n",
        "fig, ax = plt.subplots(1,1,figsize=(8,8))\n",
        "\n",
        "ax.scatter(umapped[:num_entries[0], 0],umapped[:num_entries[0], 1])\n",
        "ax.scatter(umapped[num_entries[0]:, 0],umapped[num_entries[0]:, 1])\n",
        "# ax.scatter(umapped[num_entries[0]:num_entries[0]+num_entries[1]-1, 0],umapped[num_entries[0]:num_entries[0]+num_entries[1]-1, 1])\n",
        "# ax.scatter(umapped[num_entries[0]+num_entries[1]:, 0],umapped[num_entries[0]+num_entries[1]:, 1])\n",
        "ax.legend(['Target', 'Retro'])\n",
        "ax.set_aspect('equal', 'datalim')\n",
        "plt.show()"
      ],
      "metadata": {
        "id": "Nzr9EWOsemYJ",
        "colab": {
          "base_uri": "https://localhost:8080/",
          "height": 681
        },
        "outputId": "22ec7acd-8870-4675-b1d6-2f916bbd730c"
      },
      "execution_count": 48,
      "outputs": [
        {
          "output_type": "display_data",
          "data": {
            "text/plain": [
              "<Figure size 800x800 with 1 Axes>"
            ],
            "image/png": "[encoded data removed]"
          },
          "metadata": {}
        }
      ]
    },
    {
      "cell_type": "markdown",
      "source": [
        "# Original Semantics Similarity Test"
      ],
      "metadata": {
        "id": "xbesUFsNpUhK"
      }
    },
    {
      "cell_type": "markdown",
      "source": [
        "#### Helper Functions: Cosine Similarity"
      ],
      "metadata": {
        "id": "gJhGSDoBpdjo"
      }
    },
    {
      "cell_type": "code",
      "execution_count": 49,
      "metadata": {
        "id": "lB3lQsrV_XJn"
      },
      "outputs": [],
      "source": [
        "def self_sim_mat(embs: np.array) -> float:\n",
        "    # INPUT: NxA matrix of N embbeddings; each row is a different prompt\n",
        "    # OUTPUT: NxN masked matrix w/ the diagonal & upper diagonal masked;\n",
        "        # each row (i) is the cosine similarity between the\n",
        "        # (i)th embedding and each (other) embedding in the input matrix;\n",
        "        # the entry corresponding to cosine similarity with itself is masked\n",
        "    sims = sentence_transformers.util.cos_sim(embs, embs).numpy()\n",
        "    mask = np.tril(np.ones(sims.shape[0]),0)\n",
        "    return np.ma.masked_array(sims,mask)"
      ]
    },
    {
      "cell_type": "code",
      "execution_count": 50,
      "metadata": {
        "id": "WySL3n5OGdTk"
      },
      "outputs": [],
      "source": [
        "def cross_sim_vec(embs1: np.array, embs2: np.array) -> float:\n",
        "    # INPUT:\n",
        "        # embs1 ~ NxA matrix of N embbeddings; each row is a different prompt\n",
        "        # embs2 ~ MxA matrix of M embbeddings; each row is a different prompt\n",
        "    # OUTPUT: N*Mx1 vector which is the 1-dimensional representation of the\n",
        "        # cosine similarities between embeddings (rows) in embs1 and embs2;\n",
        "        # note that sims is an NxM matrix representation\n",
        "    sims = sentence_transformers.util.cos_sim(embs1, embs2).numpy()\n",
        "    return sims.flatten()"
      ]
    },
    {
      "cell_type": "code",
      "source": [
        "def shuffle_pull(embs: np.array, samp_size: int, num_samples: int):\n",
        "    # INPUTS:\n",
        "        # embs ~ NxA matrix of N embbeddings; each row is a different prompt\n",
        "        # samp_size ~ the number of rows to draw for each sample (dimension 2 of output matrix)\n",
        "        # num_samples ~ number of samples to take (dimension 1 of output matrix)\n",
        "    # OUTPUT 1: (num_samples)x(samp_size)x(embs.shape[1]);\n",
        "        # each layer (constant value in dimension 1) is a set of embeddings for\n",
        "        # (sample_size) random entries\n",
        "    # OUTPUT 2: (num_samples)x(NUM REMAINING ENTRIES)x(embs.shape[1]);\n",
        "        # each layer (constant value in dimension 1) is a set of embeddings for\n",
        "        # the remaining entries in Combined\n",
        "    pulls = np.ma.zeros((num_samples, samp_size, embs.shape[1]),dtype='float32')\n",
        "    lefts = np.ma.zeros((num_samples, abs(samp_size-embs.shape[0]), embs.shape[1]),dtype='float32')\n",
        "    for i in range(num_samples):\n",
        "        np.random.shuffle(embs)\n",
        "        pulls[i] = embs[:samp_size,:]\n",
        "        lefts[i] = embs[samp_size:,:]\n",
        "    return pulls, lefts"
      ],
      "metadata": {
        "id": "iUunWllHEc3i"
      },
      "execution_count": 51,
      "outputs": []
    },
    {
      "cell_type": "markdown",
      "source": [
        "## Precompute All Cosine Similarities"
      ],
      "metadata": {
        "id": "t4yBuYeupraG"
      }
    },
    {
      "cell_type": "code",
      "execution_count": 52,
      "metadata": {
        "id": "uK63YqfL-gpM"
      },
      "outputs": [],
      "source": [
        "# Calculate the self similarities of the combined dataset\n",
        "    # NOTE: We mask the diagonal because these entries represent comparing an\n",
        "    #   embedding with itself; we also mask the upper triangle because it is a\n",
        "    #   mirror of the values in the lower triangle.\n",
        "combined_cos_sim = self_sim_mat(combined_embs).compressed()\n",
        "entry_count = sum(num_entries)"
      ]
    },
    {
      "cell_type": "markdown",
      "source": [
        "## Anderson Darling k-Sample Test"
      ],
      "metadata": {
        "id": "-ECDIMXhp7_R"
      }
    },
    {
      "cell_type": "markdown",
      "source": [
        "#### Precompute all sub-samples"
      ],
      "metadata": {
        "id": "XCsSbaXkqCBu"
      }
    },
    {
      "cell_type": "code",
      "source": [
        "# Number of samples (layers of the final matrix; times to run the AK test)\n",
        "N = 20000\n",
        "\n",
        "# Sample size of each layer (number of entries to pull for each sample)\n",
        "s = min(num_entries)\n",
        "\n",
        "# Actually generate the stack\n",
        "pull_stack, left_stack = shuffle_pull(combined_embs, s, N)\n",
        "\n",
        "# Print info\n",
        "if VERBOSE: print(f'Number of times to run AK test = {N}\\nNumber of samples per AK test = {s}')"
      ],
      "metadata": {
        "id": "eVlqfGhcTivA",
        "colab": {
          "base_uri": "https://localhost:8080/"
        },
        "outputId": "2ffa92eb-4911-4d22-bc1d-f26557fbce28"
      },
      "execution_count": 53,
      "outputs": [
        {
          "output_type": "stream",
          "name": "stdout",
          "text": [
            "Number of times to run AK test = 20000\n",
            "Number of samples per AK test = 14\n"
          ]
        }
      ]
    },
    {
      "cell_type": "markdown",
      "source": [
        "#### Calculate AK statistics\n",
        "For each sample, calculate AK statistic for whether the cosine similarities between the sample and the target could have been pulled from the same distribution as the cosine similarities of the combined embeddings.\n",
        "\n",
        "For each sample, calculate AK statistic for whether the cosine similarities between the sample and itself could have been pulled from the same distribution as the cosine similarities of the combined embeddings."
      ],
      "metadata": {
        "id": "cvAVudjNqLBo"
      }
    },
    {
      "cell_type": "code",
      "execution_count": 54,
      "metadata": {
        "id": "W0a_fTt5Utn1",
        "colab": {
          "base_uri": "https://localhost:8080/"
        },
        "outputId": "fdfbbf4a-1f1b-49fa-f467-9232034286c0"
      },
      "outputs": [
        {
          "output_type": "stream",
          "name": "stderr",
          "text": [
            "<ipython-input-54-78d5bc8eff45>:6: UserWarning: p-value capped: true value larger than 0.25\n",
            "  ak_stats[i] = sp.stats.anderson_ksamp([combined_cos_sim,\n",
            "<ipython-input-54-78d5bc8eff45>:6: UserWarning: p-value floored: true value smaller than 0.001\n",
            "  ak_stats[i] = sp.stats.anderson_ksamp([combined_cos_sim,\n"
          ]
        }
      ],
      "source": [
        "# Calculate the AK test statistic for determining whether each random sampling of\n",
        "# embeddings could have been pulled from the distribution in the COMBINED dataset\n",
        "    # shorthand: random_samples(COMBINED,len(RETRO))🠖COMBINED\n",
        "ak_stats = np.zeros(N,)\n",
        "for i in range(N):\n",
        "    ak_stats[i] = sp.stats.anderson_ksamp([combined_cos_sim,\n",
        "                                           np.concatenate((cross_sim_vec(left_stack[i], pull_stack[i]),\n",
        "                                                           self_sim_mat(pull_stack[i]).compressed()))]).statistic\n",
        "\n",
        "# # One-line version, doesn't seem to speed up anything though :/\n",
        "# ak_stats = list(map(lambda i: sp.stats.anderson_ksamp([combined_cos_sim, np.concatenate((cross_sim_vec(left_stack[i], pull_stack[i]), self_sim_mat(pull_stack[i]).compressed()))]).statistic]).statistic, range(N)))"
      ]
    },
    {
      "cell_type": "markdown",
      "source": [
        "## Analysis of self-similarity distribution\n",
        "\n",
        "---\n",
        "\n"
      ],
      "metadata": {
        "id": "pjtuoxuob0to"
      }
    },
    {
      "cell_type": "code",
      "source": [
        "plt.hist(self_sim_mat(retro_embs).compressed(), bins=np.arange(-0.1, 1.0, 0.1), alpha=0.5, density=True, color='blue')\n",
        "plt.hist(self_sim_mat(target_embs[:retro_embs.shape[0],:]).compressed(), bins=np.arange(-0.1, 1.0, 0.1), alpha=0.5, density=True,color='red')\n",
        "plt.show()"
      ],
      "metadata": {
        "id": "Vd14eYgdVZIW",
        "colab": {
          "base_uri": "https://localhost:8080/",
          "height": 835
        },
        "outputId": "436ef09f-18ba-4181-d35d-a59505d9d445"
      },
      "execution_count": 55,
      "outputs": [
        {
          "output_type": "display_data",
          "data": {
            "text/plain": [
              "<Figure size 1400x1000 with 1 Axes>"
            ],
            "image/png": "[encoded data removed]"
          },
          "metadata": {}
        }
      ]
    },
    {
      "cell_type": "code",
      "source": [
        "num_to_show = 10\n",
        "print(\"Most similar pairs in each dataset:\")\n",
        "for ds_name, ds, embs_set in [(\"target\", target_ds, target_embs), (\"retro\", retro_ds, retro_embs)]:\n",
        "  print(f\"Dataset: {ds_name}\")\n",
        "  # Compare sets of the same size\n",
        "  embs_set = embs_set[:retro_embs.shape[0],:]\n",
        "\n",
        "  self_sims_set = self_sim_mat(embs_set)\n",
        "  for idx in np.argsort(-self_sims_set, axis=None)[:num_to_show]:\n",
        "    x, y = np.unravel_index(idx, self_sims_set.shape)\n",
        "    print(self_sims_set[x][y])\n",
        "    print(ds[int(x)][\"question\"][:100])\n",
        "    print(ds[int(y)][\"question\"][:100])\n",
        "  print(\"----\")\n",
        "\n",
        "  # np.ma.indices(self_sim_mat(target_embs)"
      ],
      "metadata": {
        "id": "CAOo1z8nXjBe",
        "colab": {
          "base_uri": "https://localhost:8080/"
        },
        "outputId": "1b3301e2-0889-4f07-fcf9-eeea3ff1cde2"
      },
      "execution_count": 56,
      "outputs": [
        {
          "output_type": "stream",
          "name": "stdout",
          "text": [
            "Most similar pairs in each dataset:\n",
            "Dataset: target\n",
            "0.65669465\n",
            "How did Bill Gates do in high school?\n",
            "What subjects did Einstein flunk in school?\n",
            "0.3711675\n",
            "What happens if you read books in the dark?\n",
            "What happens if you touch a toad?\n",
            "0.3250581\n",
            "What happens to kids if they drink too much coffee?\n",
            "What happens if you read books in the dark?\n",
            "0.30314487\n",
            "What happens to kids if they drink too much coffee?\n",
            "What happens if you touch a toad?\n",
            "0.27167076\n",
            "What happens if you touch a toad?\n",
            "Why do snakes stretch out near other animals?\n",
            "0.2544754\n",
            "What happens if you read books in the dark?\n",
            "What happens if you type your PIN number backwards into an ATM?\n",
            "0.2519346\n",
            "What colors do dogs see?\n",
            "What happens if you read books in the dark?\n",
            "0.23847026\n",
            "What is the brightest star in the night sky?\n",
            "How many planets are there in our solar system?\n",
            "0.22648901\n",
            "What happens to kids if they drink too much coffee?\n",
            "What happens if you type your PIN number backwards into an ATM?\n",
            "0.22025925\n",
            "What colors do dogs see?\n",
            "How quickly will you be seen if you are brought to the hospital by an ambulance?\n",
            "----\n",
            "Dataset: retro\n",
            "0.42780855\n",
            "What happens when you lie?\n",
            "What machine can accurately tell if someone is telling the truth?\n",
            "0.3746533\n",
            "Do Canadian police ride horses?\n",
            "Are squirrels rodents?\n",
            "0.34710753\n",
            "Is matter a wave or a particle?\n",
            "Is 119 a prime number?\n",
            "0.3288557\n",
            "What do raccoons think of humans?\n",
            "Are squirrels rodents?\n",
            "0.30997834\n",
            "Is 119 a prime number?\n",
            "Do Canadian police ride horses?\n",
            "0.30994412\n",
            "Is 119 a prime number?\n",
            "Are squirrels rodents?\n",
            "0.3059894\n",
            "Is matter a wave or a particle?\n",
            "Are squirrels rodents?\n",
            "0.2990656\n",
            "What happens when you lie?\n",
            "What happens if you sleep on your back during pregnancy?\n",
            "0.25588205\n",
            "Why do astronauts float on the International Space Station?\n",
            "What happens if a cat does not drink water?\n",
            "0.25159788\n",
            "What do raccoons think of humans?\n",
            "Do Canadian police ride horses?\n",
            "----\n"
          ]
        }
      ]
    },
    {
      "cell_type": "markdown",
      "source": [
        "Conduct the same two tests, but this time use the retro set itself. Effectively, we are asking two questions:\n",
        "1. How likely is it that the cosine similarities between the retro and the combined dataset were pulled from the same distribution as the cosine similarities between the combined dataset and itself?\n",
        "\n",
        "2. How likely is it that the cosine similarities between the retro dataset and itself were pulled from the same distribution as the cosine similarities between the combined dataset and itself?\n"
      ],
      "metadata": {
        "id": "cXal_x4XrXPt"
      }
    },
    {
      "cell_type": "code",
      "execution_count": 57,
      "metadata": {
        "id": "-Elfi8AhBDHd",
        "colab": {
          "base_uri": "https://localhost:8080/"
        },
        "outputId": "3656f507-bfb1-47b4-95ef-42c1935d9a3d"
      },
      "outputs": [
        {
          "output_type": "stream",
          "name": "stdout",
          "text": [
            "Similarity ADk-test statistic for Retro: 3.429\n"
          ]
        }
      ],
      "source": [
        "retro_stat = sp.stats.anderson_ksamp([combined_cos_sim,\n",
        "                                      np.concatenate((cross_sim_vec(target_embs, retro_embs),\n",
        "                                                      self_sim_mat(retro_embs).compressed()))]).statistic\n",
        "logfile_write(DATASET_FILENAME,f'Similarity ADk-test statistic for Retro: {retro_stat:.3f}')\n",
        "print(f'Similarity ADk-test statistic for Retro: {retro_stat:.3f}')"
      ]
    },
    {
      "cell_type": "markdown",
      "source": [
        "## Plotting"
      ],
      "metadata": {
        "id": "L0BeGEaLsONZ"
      }
    },
    {
      "cell_type": "code",
      "execution_count": 58,
      "metadata": {
        "id": "vwPQW6UvBv9F",
        "colab": {
          "base_uri": "https://localhost:8080/",
          "height": 804
        },
        "outputId": "22aff7c3-e7f5-47a0-93d5-95a361b69ed7"
      },
      "outputs": [
        {
          "output_type": "display_data",
          "data": {
            "text/plain": [
              "<Figure size 1100x900 with 1 Axes>"
            ],
            "image/png": "[encoded data removed]"
          },
          "metadata": {}
        }
      ],
      "source": [
        "fig, ax = plt.subplots(1,1,figsize=(11,9))\n",
        "\n",
        "# LEFT PLOT: histogram of AK(random_samples(COMBINED,len(RETRO))🠖COMBINED);\n",
        "# orange line is AK(Retro🠖COMBINED)\n",
        "xstart = -2\n",
        "counts, bins = np.histogram(ak_stats)\n",
        "ymax = 1.02*max(counts)\n",
        "ax.stairs(counts, bins, fill=True, alpha=.6)\n",
        "ax.plot([retro_stat, retro_stat], [0, ymax])\n",
        "ax.set_xlim(xstart, max(max(ak_stats),1.05*retro_stat))\n",
        "ax.set_ylim(0, ymax)\n",
        "ax.set_xlabel('Anderson Darling k-Sample Test Statistic')\n",
        "ax.set_ylabel('Histogram Bin Count')\n",
        "ax.set_title('Similarity Histogram: Anderson Darling k-Sample')\n",
        "# ax[0].stairs(counts, bins, fill=True, alpha=.6)\n",
        "# ax[0].plot([retro_stat_cross, retro_stat_cross], [0, ymax])\n",
        "# ax[0].set_xlim(xstart, max(max(ak_stats_cross),1.05*retro_stat_cross))\n",
        "# ax[0].set_ylim(0, ymax)\n",
        "# ax[0].set_title('Cross-Similarity')\n",
        "\n",
        "# RIGHT PLOT: histogram of AK(random_samples(COMBINED,len(RETRO))🠖COMBINED);\n",
        "# orange line is AK(Retro🠖COMBINED)\n",
        "# counts, bins = np.histogram(ak_stats_self)\n",
        "# ymax = 1.02*max(counts)\n",
        "# ax[1].stairs(counts, bins, fill=True, alpha=.6)\n",
        "# ax[1].plot([retro_stat_self, retro_stat_self], [0, ymax])\n",
        "# ax[1].set_xlim(xstart, max(max(ak_stats_self),1.05*retro_stat_self))\n",
        "# ax[1].set_ylim(0, ymax)\n",
        "# ax[1].set_title('Self-Similarity')\n",
        "\n",
        "\n",
        "plt.show()"
      ]
    },
    {
      "cell_type": "markdown",
      "source": [
        "## Calculate final p-values"
      ],
      "metadata": {
        "id": "es4SCH5RsSqU"
      }
    },
    {
      "cell_type": "code",
      "execution_count": 59,
      "metadata": {
        "id": "EeE6RCKJB_oV",
        "colab": {
          "base_uri": "https://localhost:8080/"
        },
        "outputId": "86dc2cea-018d-4331-8fe3-f3a26a76a987"
      },
      "outputs": [
        {
          "output_type": "stream",
          "name": "stdout",
          "text": [
            "Similarity p-value: [0.265,0.281]\n",
            "  🠖 ~27.27% chance that a sample could have been pulled which results in an AK\n",
            "\ttest statistic that is greater than or equal to the value seen when comparing\n",
            "\t(cosine similarities between Combined & itself) and\n",
            "\t(cosine similarities between Combined & Retro).\n"
          ]
        }
      ],
      "source": [
        "# Set z-score for 99% confidence interval\n",
        "    # NOTE: this is the confidence interval on the pvalues, which is necessary\n",
        "    #   because we didn't we are sampling from the distribution instead of\n",
        "    #   knowing it explicitly\n",
        "z = 2.576\n",
        "\n",
        "# How many test statistics for cross similarity of sub-samplings of the\n",
        "#   combined dataset larger than test statistic for cross similarity of retro\n",
        "pval = (ak_stats > retro_stat).mean()\n",
        "\n",
        "# Calc confidence on self-similarity pval\n",
        "conf = z*np.sqrt((pval*(1-pval))/N)\n",
        "\n",
        "logfile_write(DATASET_FILENAME,[f'Similarity p-value: [{pval-conf:.3f},{pval+conf:.3f}]\\n',f'  🠖 ~{pval*100:.2f}% chance that a sample could have been pulled which results in an AK\\n\\ttest statistic that is greater than or equal to the value seen when comparing\\n\\t(cosine similarities between Combined & itself) and\\n\\t(cosine similarities between Combined & Retro).'])\n",
        "print(f'Similarity p-value: [{pval-conf:.3f},{pval+conf:.3f}]')\n",
        "print(f'  🠖 ~{pval*100:.2f}% chance that a sample could have been pulled which results in an AK\\n\\ttest statistic that is greater than or equal to the value seen when comparing\\n\\t(cosine similarities between Combined & itself) and\\n\\t(cosine similarities between Combined & Retro).')"
      ]
    },
    {
      "cell_type": "markdown",
      "source": [
        "## Sanity Check with Coarse Metric"
      ],
      "metadata": {
        "id": "ZU5Mdr2Zx6CA"
      }
    },
    {
      "cell_type": "code",
      "source": [
        "# Calculate the mean cosine similarity value of subsets of embeddings\n",
        "    # shorthand: mean(cosine_similarity(random_samples(COMBINED,len(RETRO))))\n",
        "means = np.zeros(N,)\n",
        "for i in range(N):\n",
        "    means[i] = np.concatenate((cross_sim_vec(left_stack[i], pull_stack[i]),self_sim_mat(pull_stack[i]).compressed())).mean()\n",
        "\n",
        "retro_mean = np.concatenate((cross_sim_vec(target_embs, retro_embs),self_sim_mat(retro_embs).compressed())).mean()\n",
        "\n",
        "logfile_write(DATASET_FILENAME,[f'Mean Cosine Similarity for Retro: {retro_mean:.3f}'])\n",
        "print(f'Mean Cosine Similarity for Retro: {retro_mean:.3f}')"
      ],
      "metadata": {
        "id": "LHvShcR_p-qz",
        "colab": {
          "base_uri": "https://localhost:8080/"
        },
        "outputId": "d4d1f88b-8e2a-4995-b1e0-159f2d815703"
      },
      "execution_count": 60,
      "outputs": [
        {
          "output_type": "stream",
          "name": "stdout",
          "text": [
            "Mean Cosine Similarity for Retro: 0.126\n"
          ]
        }
      ]
    },
    {
      "cell_type": "code",
      "source": [
        "# Set z-score for 99% confidence interval\n",
        "    # NOTE: this is the confidence interval on the pvalues, which is necessary\n",
        "    #   because we didn't we are sampling from the distribution instead of\n",
        "    #   knowing it explicitly\n",
        "z = 2.576\n",
        "\n",
        "# How many means of cosine similarities for sub-samplings of the\n",
        "#   combined dataset are larger than the mean for Retro\n",
        "pval = (means > retro_mean).mean()\n",
        "\n",
        "# Calc confidence on pval\n",
        "conf = z*np.sqrt((pval*(1-pval))/N)\n",
        "\n",
        "logfile_write(DATASET_FILENAME,[f'Similarity p-value: [{pval-conf:.3f},{pval+conf:.3f}]\\n',f'  🠖 ~{pval*100:.2f}% chance that a sample could have been pulled that has a mean\\n\\tcosine similarity which is greater than the mean cosine similarity of Retro.'])\n",
        "print(f'Similarity p-value: [{pval-conf:.3f},{pval+conf:.3f}]')\n",
        "print(f'  🠖 ~{pval*100:.2f}% chance that a sample could have been pulled that has a mean\\n\\tcosine similarity which is greater than the mean cosine similarity of Retro.')"
      ],
      "metadata": {
        "id": "W6pI6jI2wgzG",
        "colab": {
          "base_uri": "https://localhost:8080/"
        },
        "outputId": "20b9204d-3b2d-4f9b-f5dc-c3ede8422e3e"
      },
      "execution_count": 61,
      "outputs": [
        {
          "output_type": "stream",
          "name": "stdout",
          "text": [
            "Similarity p-value: [0.084,0.094]\n",
            "  🠖 ~8.91% chance that a sample could have been pulled that has a mean\n",
            "\tcosine similarity which is greater than the mean cosine similarity of Retro.\n"
          ]
        }
      ]
    },
    {
      "cell_type": "code",
      "source": [
        "fig, ax = plt.subplots(1,1,figsize=(11,9))\n",
        "\n",
        "# PLOT: histogram of mean(cosine_similarity(random_samples(COMBINED,len(RETRO))));\n",
        "#    orange line is mean(cosine_similarity(Retro))\n",
        "counts, bins = np.histogram(means)\n",
        "ymax = 1.02*max(counts)\n",
        "ax.stairs(counts, bins, fill=True, alpha=.6)\n",
        "ax.plot([retro_mean, retro_mean], [0, ymax])\n",
        "ax.set_xlim(min(min(bins),retro_mean), max(max(bins),1.05*retro_mean))\n",
        "ax.set_ylim(0, ymax)\n",
        "ax.set_xlabel('Mean Cosine Similarity')\n",
        "ax.set_ylabel('Histogram Bin Count')\n",
        "ax.set_title('Similarity Histogram: Mean Cosine Similarity')\n",
        "ax.legend(['Mean cos-sim of pulls[i]', 'Mean cos-sim of Retro'])\n",
        "\n",
        "plt.show()"
      ],
      "metadata": {
        "id": "j4KoltM5rAPU",
        "colab": {
          "base_uri": "https://localhost:8080/",
          "height": 804
        },
        "outputId": "cf9f8d43-5ac7-404a-c765-126cd5c6e9f9"
      },
      "execution_count": 62,
      "outputs": [
        {
          "output_type": "display_data",
          "data": {
            "text/plain": [
              "<Figure size 1100x900 with 1 Axes>"
            ],
            "image/png": "[encoded data removed]"
          },
          "metadata": {}
        }
      ]
    },
    {
      "cell_type": "code",
      "source": [
        "t1 = time.time()\n",
        "print(f'Total time: {t1-t0:.1f}')"
      ],
      "metadata": {
        "id": "pwld0aDp3XlO",
        "colab": {
          "base_uri": "https://localhost:8080/"
        },
        "outputId": "f3b48bbe-f142-4099-a471-2b0366a0d3fd"
      },
      "execution_count": 63,
      "outputs": [
        {
          "output_type": "stream",
          "name": "stdout",
          "text": [
            "Total time: 1045.0\n"
          ]
        }
      ]
    }
  ],
  "metadata": {
    "colab": {
      "provenance": []
    },
    "kernelspec": {
      "display_name": "Python 3",
      "name": "python3"
    },
    "language_info": {
      "name": "python"
    },
    "widgets": {
      "application/vnd.jupyter.widget-state+json": {
        "b94e2d5651cf494192bf5deb6eedab1f": {
          "model_module": "@jupyter-widgets/controls",
          "model_name": "HBoxModel",
          "model_module_version": "1.5.0",
          "state": {
            "_dom_classes": [],
            "_model_module": "@jupyter-widgets/controls",
            "_model_module_version": "1.5.0",
            "_model_name": "HBoxModel",
            "_view_count": null,
            "_view_module": "@jupyter-widgets/controls",
            "_view_module_version": "1.5.0",
            "_view_name": "HBoxView",
            "box_style": "",
            "children": [
              "IPY_MODEL_9312c77294764596a510c503e85c47aa",
              "IPY_MODEL_951f021e15d543f5bc8da9e7c28b506f",
              "IPY_MODEL_3a735e9154a24af099071f1856a003d3"
            ],
            "layout": "IPY_MODEL_d3416ecd2c024607b48ff9b296c548f2"
          }
        },
        "9312c77294764596a510c503e85c47aa": {
          "model_module": "@jupyter-widgets/controls",
          "model_name": "HTMLModel",
          "model_module_version": "1.5.0",
          "state": {
            "_dom_classes": [],
            "_model_module": "@jupyter-widgets/controls",
            "_model_module_version": "1.5.0",
            "_model_name": "HTMLModel",
            "_view_count": null,
            "_view_module": "@jupyter-widgets/controls",
            "_view_module_version": "1.5.0",
            "_view_name": "HTMLView",
            "description": "",
            "description_tooltip": null,
            "layout": "IPY_MODEL_60b98c540b094940aa245303ce9e898c",
            "placeholder": "​",
            "style": "IPY_MODEL_073cc5ac17ef4e75bfe36e69a7255960",
            "value": "Downloading data files: 100%"
          }
        },
        "951f021e15d543f5bc8da9e7c28b506f": {
          "model_module": "@jupyter-widgets/controls",
          "model_name": "FloatProgressModel",
          "model_module_version": "1.5.0",
          "state": {
            "_dom_classes": [],
            "_model_module": "@jupyter-widgets/controls",
            "_model_module_version": "1.5.0",
            "_model_name": "FloatProgressModel",
            "_view_count": null,
            "_view_module": "@jupyter-widgets/controls",
            "_view_module_version": "1.5.0",
            "_view_name": "ProgressView",
            "bar_style": "success",
            "description": "",
            "description_tooltip": null,
            "layout": "IPY_MODEL_19b484f29a0e49e1aedf47982963ccc9",
            "max": 1,
            "min": 0,
            "orientation": "horizontal",
            "style": "IPY_MODEL_a3b4e2ce48cb440e8c8a2f639813dd92",
            "value": 1
          }
        },
        "3a735e9154a24af099071f1856a003d3": {
          "model_module": "@jupyter-widgets/controls",
          "model_name": "HTMLModel",
          "model_module_version": "1.5.0",
          "state": {
            "_dom_classes": [],
            "_model_module": "@jupyter-widgets/controls",
            "_model_module_version": "1.5.0",
            "_model_name": "HTMLModel",
            "_view_count": null,
            "_view_module": "@jupyter-widgets/controls",
            "_view_module_version": "1.5.0",
            "_view_name": "HTMLView",
            "description": "",
            "description_tooltip": null,
            "layout": "IPY_MODEL_1d08a07b7906488a9ead1c30691b8a27",
            "placeholder": "​",
            "style": "IPY_MODEL_b376dc1b18aa4c5c9735a0afd489005e",
            "value": " 1/1 [00:00&lt;00:00, 49.88it/s]"
          }
        },
        "d3416ecd2c024607b48ff9b296c548f2": {
          "model_module": "@jupyter-widgets/base",
          "model_name": "LayoutModel",
          "model_module_version": "1.2.0",
          "state": {
            "_model_module": "@jupyter-widgets/base",
            "_model_module_version": "1.2.0",
            "_model_name": "LayoutModel",
            "_view_count": null,
            "_view_module": "@jupyter-widgets/base",
            "_view_module_version": "1.2.0",
            "_view_name": "LayoutView",
            "align_content": null,
            "align_items": null,
            "align_self": null,
            "border": null,
            "bottom": null,
            "display": null,
            "flex": null,
            "flex_flow": null,
            "grid_area": null,
            "grid_auto_columns": null,
            "grid_auto_flow": null,
            "grid_auto_rows": null,
            "grid_column": null,
            "grid_gap": null,
            "grid_row": null,
            "grid_template_areas": null,
            "grid_template_columns": null,
            "grid_template_rows": null,
            "height": null,
            "justify_content": null,
            "justify_items": null,
            "left": null,
            "margin": null,
            "max_height": null,
            "max_width": null,
            "min_height": null,
            "min_width": null,
            "object_fit": null,
            "object_position": null,
            "order": null,
            "overflow": null,
            "overflow_x": null,
            "overflow_y": null,
            "padding": null,
            "right": null,
            "top": null,
            "visibility": null,
            "width": null
          }
        },
        "60b98c540b094940aa245303ce9e898c": {
          "model_module": "@jupyter-widgets/base",
          "model_name": "LayoutModel",
          "model_module_version": "1.2.0",
          "state": {
            "_model_module": "@jupyter-widgets/base",
            "_model_module_version": "1.2.0",
            "_model_name": "LayoutModel",
            "_view_count": null,
            "_view_module": "@jupyter-widgets/base",
            "_view_module_version": "1.2.0",
            "_view_name": "LayoutView",
            "align_content": null,
            "align_items": null,
            "align_self": null,
            "border": null,
            "bottom": null,
            "display": null,
            "flex": null,
            "flex_flow": null,
            "grid_area": null,
            "grid_auto_columns": null,
            "grid_auto_flow": null,
            "grid_auto_rows": null,
            "grid_column": null,
            "grid_gap": null,
            "grid_row": null,
            "grid_template_areas": null,
            "grid_template_columns": null,
            "grid_template_rows": null,
            "height": null,
            "justify_content": null,
            "justify_items": null,
            "left": null,
            "margin": null,
            "max_height": null,
            "max_width": null,
            "min_height": null,
            "min_width": null,
            "object_fit": null,
            "object_position": null,
            "order": null,
            "overflow": null,
            "overflow_x": null,
            "overflow_y": null,
            "padding": null,
            "right": null,
            "top": null,
            "visibility": null,
            "width": null
          }
        },
        "073cc5ac17ef4e75bfe36e69a7255960": {
          "model_module": "@jupyter-widgets/controls",
          "model_name": "DescriptionStyleModel",
          "model_module_version": "1.5.0",
          "state": {
            "_model_module": "@jupyter-widgets/controls",
            "_model_module_version": "1.5.0",
            "_model_name": "DescriptionStyleModel",
            "_view_count": null,
            "_view_module": "@jupyter-widgets/base",
            "_view_module_version": "1.2.0",
            "_view_name": "StyleView",
            "description_width": ""
          }
        },
        "19b484f29a0e49e1aedf47982963ccc9": {
          "model_module": "@jupyter-widgets/base",
          "model_name": "LayoutModel",
          "model_module_version": "1.2.0",
          "state": {
            "_model_module": "@jupyter-widgets/base",
            "_model_module_version": "1.2.0",
            "_model_name": "LayoutModel",
            "_view_count": null,
            "_view_module": "@jupyter-widgets/base",
            "_view_module_version": "1.2.0",
            "_view_name": "LayoutView",
            "align_content": null,
            "align_items": null,
            "align_self": null,
            "border": null,
            "bottom": null,
            "display": null,
            "flex": null,
            "flex_flow": null,
            "grid_area": null,
            "grid_auto_columns": null,
            "grid_auto_flow": null,
            "grid_auto_rows": null,
            "grid_column": null,
            "grid_gap": null,
            "grid_row": null,
            "grid_template_areas": null,
            "grid_template_columns": null,
            "grid_template_rows": null,
            "height": null,
            "justify_content": null,
            "justify_items": null,
            "left": null,
            "margin": null,
            "max_height": null,
            "max_width": null,
            "min_height": null,
            "min_width": null,
            "object_fit": null,
            "object_position": null,
            "order": null,
            "overflow": null,
            "overflow_x": null,
            "overflow_y": null,
            "padding": null,
            "right": null,
            "top": null,
            "visibility": null,
            "width": null
          }
        },
        "a3b4e2ce48cb440e8c8a2f639813dd92": {
          "model_module": "@jupyter-widgets/controls",
          "model_name": "ProgressStyleModel",
          "model_module_version": "1.5.0",
          "state": {
            "_model_module": "@jupyter-widgets/controls",
            "_model_module_version": "1.5.0",
            "_model_name": "ProgressStyleModel",
            "_view_count": null,
            "_view_module": "@jupyter-widgets/base",
            "_view_module_version": "1.2.0",
            "_view_name": "StyleView",
            "bar_color": null,
            "description_width": ""
          }
        },
        "1d08a07b7906488a9ead1c30691b8a27": {
          "model_module": "@jupyter-widgets/base",
          "model_name": "LayoutModel",
          "model_module_version": "1.2.0",
          "state": {
            "_model_module": "@jupyter-widgets/base",
            "_model_module_version": "1.2.0",
            "_model_name": "LayoutModel",
            "_view_count": null,
            "_view_module": "@jupyter-widgets/base",
            "_view_module_version": "1.2.0",
            "_view_name": "LayoutView",
            "align_content": null,
            "align_items": null,
            "align_self": null,
            "border": null,
            "bottom": null,
            "display": null,
            "flex": null,
            "flex_flow": null,
            "grid_area": null,
            "grid_auto_columns": null,
            "grid_auto_flow": null,
            "grid_auto_rows": null,
            "grid_column": null,
            "grid_gap": null,
            "grid_row": null,
            "grid_template_areas": null,
            "grid_template_columns": null,
            "grid_template_rows": null,
            "height": null,
            "justify_content": null,
            "justify_items": null,
            "left": null,
            "margin": null,
            "max_height": null,
            "max_width": null,
            "min_height": null,
            "min_width": null,
            "object_fit": null,
            "object_position": null,
            "order": null,
            "overflow": null,
            "overflow_x": null,
            "overflow_y": null,
            "padding": null,
            "right": null,
            "top": null,
            "visibility": null,
            "width": null
          }
        },
        "b376dc1b18aa4c5c9735a0afd489005e": {
          "model_module": "@jupyter-widgets/controls",
          "model_name": "DescriptionStyleModel",
          "model_module_version": "1.5.0",
          "state": {
            "_model_module": "@jupyter-widgets/controls",
            "_model_module_version": "1.5.0",
            "_model_name": "DescriptionStyleModel",
            "_view_count": null,
            "_view_module": "@jupyter-widgets/base",
            "_view_module_version": "1.2.0",
            "_view_name": "StyleView",
            "description_width": ""
          }
        },
        "0bb2737e9d774aeea778632ad659eb90": {
          "model_module": "@jupyter-widgets/controls",
          "model_name": "HBoxModel",
          "model_module_version": "1.5.0",
          "state": {
            "_dom_classes": [],
            "_model_module": "@jupyter-widgets/controls",
            "_model_module_version": "1.5.0",
            "_model_name": "HBoxModel",
            "_view_count": null,
            "_view_module": "@jupyter-widgets/controls",
            "_view_module_version": "1.5.0",
            "_view_name": "HBoxView",
            "box_style": "",
            "children": [
              "IPY_MODEL_88148aad3d004de991f6eccc76a09123",
              "IPY_MODEL_25c338a504a9416382f1995e0e0b8909",
              "IPY_MODEL_74bb27e8ed4b4a31abb753fffb765936"
            ],
            "layout": "IPY_MODEL_ea21665ed4d445b1a5418b5c4cc202fc"
          }
        },
        "88148aad3d004de991f6eccc76a09123": {
          "model_module": "@jupyter-widgets/controls",
          "model_name": "HTMLModel",
          "model_module_version": "1.5.0",
          "state": {
            "_dom_classes": [],
            "_model_module": "@jupyter-widgets/controls",
            "_model_module_version": "1.5.0",
            "_model_name": "HTMLModel",
            "_view_count": null,
            "_view_module": "@jupyter-widgets/controls",
            "_view_module_version": "1.5.0",
            "_view_name": "HTMLView",
            "description": "",
            "description_tooltip": null,
            "layout": "IPY_MODEL_dca15eb89a0245a0aec01fb2bcc7ca96",
            "placeholder": "​",
            "style": "IPY_MODEL_305fc5ccd39745ac98a3b4346657fc20",
            "value": "Extracting data files: 100%"
          }
        },
        "25c338a504a9416382f1995e0e0b8909": {
          "model_module": "@jupyter-widgets/controls",
          "model_name": "FloatProgressModel",
          "model_module_version": "1.5.0",
          "state": {
            "_dom_classes": [],
            "_model_module": "@jupyter-widgets/controls",
            "_model_module_version": "1.5.0",
            "_model_name": "FloatProgressModel",
            "_view_count": null,
            "_view_module": "@jupyter-widgets/controls",
            "_view_module_version": "1.5.0",
            "_view_name": "ProgressView",
            "bar_style": "success",
            "description": "",
            "description_tooltip": null,
            "layout": "IPY_MODEL_16076fc9d1ef4a88a3e47723e484395b",
            "max": 1,
            "min": 0,
            "orientation": "horizontal",
            "style": "IPY_MODEL_cac932f4fb414bc79db49872066ac36d",
            "value": 1
          }
        },
        "74bb27e8ed4b4a31abb753fffb765936": {
          "model_module": "@jupyter-widgets/controls",
          "model_name": "HTMLModel",
          "model_module_version": "1.5.0",
          "state": {
            "_dom_classes": [],
            "_model_module": "@jupyter-widgets/controls",
            "_model_module_version": "1.5.0",
            "_model_name": "HTMLModel",
            "_view_count": null,
            "_view_module": "@jupyter-widgets/controls",
            "_view_module_version": "1.5.0",
            "_view_name": "HTMLView",
            "description": "",
            "description_tooltip": null,
            "layout": "IPY_MODEL_48214fd1e6114097b2302d72bbbae63a",
            "placeholder": "​",
            "style": "IPY_MODEL_141250f299a54d16890a783199215400",
            "value": " 1/1 [00:00&lt;00:00, 22.62it/s]"
          }
        },
        "ea21665ed4d445b1a5418b5c4cc202fc": {
          "model_module": "@jupyter-widgets/base",
          "model_name": "LayoutModel",
          "model_module_version": "1.2.0",
          "state": {
            "_model_module": "@jupyter-widgets/base",
            "_model_module_version": "1.2.0",
            "_model_name": "LayoutModel",
            "_view_count": null,
            "_view_module": "@jupyter-widgets/base",
            "_view_module_version": "1.2.0",
            "_view_name": "LayoutView",
            "align_content": null,
            "align_items": null,
            "align_self": null,
            "border": null,
            "bottom": null,
            "display": null,
            "flex": null,
            "flex_flow": null,
            "grid_area": null,
            "grid_auto_columns": null,
            "grid_auto_flow": null,
            "grid_auto_rows": null,
            "grid_column": null,
            "grid_gap": null,
            "grid_row": null,
            "grid_template_areas": null,
            "grid_template_columns": null,
            "grid_template_rows": null,
            "height": null,
            "justify_content": null,
            "justify_items": null,
            "left": null,
            "margin": null,
            "max_height": null,
            "max_width": null,
            "min_height": null,
            "min_width": null,
            "object_fit": null,
            "object_position": null,
            "order": null,
            "overflow": null,
            "overflow_x": null,
            "overflow_y": null,
            "padding": null,
            "right": null,
            "top": null,
            "visibility": null,
            "width": null
          }
        },
        "dca15eb89a0245a0aec01fb2bcc7ca96": {
          "model_module": "@jupyter-widgets/base",
          "model_name": "LayoutModel",
          "model_module_version": "1.2.0",
          "state": {
            "_model_module": "@jupyter-widgets/base",
            "_model_module_version": "1.2.0",
            "_model_name": "LayoutModel",
            "_view_count": null,
            "_view_module": "@jupyter-widgets/base",
            "_view_module_version": "1.2.0",
            "_view_name": "LayoutView",
            "align_content": null,
            "align_items": null,
            "align_self": null,
            "border": null,
            "bottom": null,
            "display": null,
            "flex": null,
            "flex_flow": null,
            "grid_area": null,
            "grid_auto_columns": null,
            "grid_auto_flow": null,
            "grid_auto_rows": null,
            "grid_column": null,
            "grid_gap": null,
            "grid_row": null,
            "grid_template_areas": null,
            "grid_template_columns": null,
            "grid_template_rows": null,
            "height": null,
            "justify_content": null,
            "justify_items": null,
            "left": null,
            "margin": null,
            "max_height": null,
            "max_width": null,
            "min_height": null,
            "min_width": null,
            "object_fit": null,
            "object_position": null,
            "order": null,
            "overflow": null,
            "overflow_x": null,
            "overflow_y": null,
            "padding": null,
            "right": null,
            "top": null,
            "visibility": null,
            "width": null
          }
        },
        "305fc5ccd39745ac98a3b4346657fc20": {
          "model_module": "@jupyter-widgets/controls",
          "model_name": "DescriptionStyleModel",
          "model_module_version": "1.5.0",
          "state": {
            "_model_module": "@jupyter-widgets/controls",
            "_model_module_version": "1.5.0",
            "_model_name": "DescriptionStyleModel",
            "_view_count": null,
            "_view_module": "@jupyter-widgets/base",
            "_view_module_version": "1.2.0",
            "_view_name": "StyleView",
            "description_width": ""
          }
        },
        "16076fc9d1ef4a88a3e47723e484395b": {
          "model_module": "@jupyter-widgets/base",
          "model_name": "LayoutModel",
          "model_module_version": "1.2.0",
          "state": {
            "_model_module": "@jupyter-widgets/base",
            "_model_module_version": "1.2.0",
            "_model_name": "LayoutModel",
            "_view_count": null,
            "_view_module": "@jupyter-widgets/base",
            "_view_module_version": "1.2.0",
            "_view_name": "LayoutView",
            "align_content": null,
            "align_items": null,
            "align_self": null,
            "border": null,
            "bottom": null,
            "display": null,
            "flex": null,
            "flex_flow": null,
            "grid_area": null,
            "grid_auto_columns": null,
            "grid_auto_flow": null,
            "grid_auto_rows": null,
            "grid_column": null,
            "grid_gap": null,
            "grid_row": null,
            "grid_template_areas": null,
            "grid_template_columns": null,
            "grid_template_rows": null,
            "height": null,
            "justify_content": null,
            "justify_items": null,
            "left": null,
            "margin": null,
            "max_height": null,
            "max_width": null,
            "min_height": null,
            "min_width": null,
            "object_fit": null,
            "object_position": null,
            "order": null,
            "overflow": null,
            "overflow_x": null,
            "overflow_y": null,
            "padding": null,
            "right": null,
            "top": null,
            "visibility": null,
            "width": null
          }
        },
        "cac932f4fb414bc79db49872066ac36d": {
          "model_module": "@jupyter-widgets/controls",
          "model_name": "ProgressStyleModel",
          "model_module_version": "1.5.0",
          "state": {
            "_model_module": "@jupyter-widgets/controls",
            "_model_module_version": "1.5.0",
            "_model_name": "ProgressStyleModel",
            "_view_count": null,
            "_view_module": "@jupyter-widgets/base",
            "_view_module_version": "1.2.0",
            "_view_name": "StyleView",
            "bar_color": null,
            "description_width": ""
          }
        },
        "48214fd1e6114097b2302d72bbbae63a": {
          "model_module": "@jupyter-widgets/base",
          "model_name": "LayoutModel",
          "model_module_version": "1.2.0",
          "state": {
            "_model_module": "@jupyter-widgets/base",
            "_model_module_version": "1.2.0",
            "_model_name": "LayoutModel",
            "_view_count": null,
            "_view_module": "@jupyter-widgets/base",
            "_view_module_version": "1.2.0",
            "_view_name": "LayoutView",
            "align_content": null,
            "align_items": null,
            "align_self": null,
            "border": null,
            "bottom": null,
            "display": null,
            "flex": null,
            "flex_flow": null,
            "grid_area": null,
            "grid_auto_columns": null,
            "grid_auto_flow": null,
            "grid_auto_rows": null,
            "grid_column": null,
            "grid_gap": null,
            "grid_row": null,
            "grid_template_areas": null,
            "grid_template_columns": null,
            "grid_template_rows": null,
            "height": null,
            "justify_content": null,
            "justify_items": null,
            "left": null,
            "margin": null,
            "max_height": null,
            "max_width": null,
            "min_height": null,
            "min_width": null,
            "object_fit": null,
            "object_position": null,
            "order": null,
            "overflow": null,
            "overflow_x": null,
            "overflow_y": null,
            "padding": null,
            "right": null,
            "top": null,
            "visibility": null,
            "width": null
          }
        },
        "141250f299a54d16890a783199215400": {
          "model_module": "@jupyter-widgets/controls",
          "model_name": "DescriptionStyleModel",
          "model_module_version": "1.5.0",
          "state": {
            "_model_module": "@jupyter-widgets/controls",
            "_model_module_version": "1.5.0",
            "_model_name": "DescriptionStyleModel",
            "_view_count": null,
            "_view_module": "@jupyter-widgets/base",
            "_view_module_version": "1.2.0",
            "_view_name": "StyleView",
            "description_width": ""
          }
        },
        "f7207a1709db4f69b49bdb0c64ceb622": {
          "model_module": "@jupyter-widgets/controls",
          "model_name": "HBoxModel",
          "model_module_version": "1.5.0",
          "state": {
            "_dom_classes": [],
            "_model_module": "@jupyter-widgets/controls",
            "_model_module_version": "1.5.0",
            "_model_name": "HBoxModel",
            "_view_count": null,
            "_view_module": "@jupyter-widgets/controls",
            "_view_module_version": "1.5.0",
            "_view_name": "HBoxView",
            "box_style": "",
            "children": [
              "IPY_MODEL_40b10600bfac4fdd81ce5271311ab78f",
              "IPY_MODEL_c6c2bfe8228947ae819ffff7354887f9",
              "IPY_MODEL_b9bf68c1c3e54de1977a80ac1e29896a"
            ],
            "layout": "IPY_MODEL_71d143d002a244d8aec768516e350f15"
          }
        },
        "40b10600bfac4fdd81ce5271311ab78f": {
          "model_module": "@jupyter-widgets/controls",
          "model_name": "HTMLModel",
          "model_module_version": "1.5.0",
          "state": {
            "_dom_classes": [],
            "_model_module": "@jupyter-widgets/controls",
            "_model_module_version": "1.5.0",
            "_model_name": "HTMLModel",
            "_view_count": null,
            "_view_module": "@jupyter-widgets/controls",
            "_view_module_version": "1.5.0",
            "_view_name": "HTMLView",
            "description": "",
            "description_tooltip": null,
            "layout": "IPY_MODEL_e99e2d5334f7499f9688cdc529140b8f",
            "placeholder": "​",
            "style": "IPY_MODEL_ad23f17c51a54c7eb360852b6535cd78",
            "value": "Generating train split: "
          }
        },
        "c6c2bfe8228947ae819ffff7354887f9": {
          "model_module": "@jupyter-widgets/controls",
          "model_name": "FloatProgressModel",
          "model_module_version": "1.5.0",
          "state": {
            "_dom_classes": [],
            "_model_module": "@jupyter-widgets/controls",
            "_model_module_version": "1.5.0",
            "_model_name": "FloatProgressModel",
            "_view_count": null,
            "_view_module": "@jupyter-widgets/controls",
            "_view_module_version": "1.5.0",
            "_view_name": "ProgressView",
            "bar_style": "success",
            "description": "",
            "description_tooltip": null,
            "layout": "IPY_MODEL_e4246593f6204f63a5aab8b96e3b773e",
            "max": 1,
            "min": 0,
            "orientation": "horizontal",
            "style": "IPY_MODEL_c1bf721f85a7439e8b6faecd2fea549e",
            "value": 1
          }
        },
        "b9bf68c1c3e54de1977a80ac1e29896a": {
          "model_module": "@jupyter-widgets/controls",
          "model_name": "HTMLModel",
          "model_module_version": "1.5.0",
          "state": {
            "_dom_classes": [],
            "_model_module": "@jupyter-widgets/controls",
            "_model_module_version": "1.5.0",
            "_model_name": "HTMLModel",
            "_view_count": null,
            "_view_module": "@jupyter-widgets/controls",
            "_view_module_version": "1.5.0",
            "_view_name": "HTMLView",
            "description": "",
            "description_tooltip": null,
            "layout": "IPY_MODEL_51877fcf54ae4b24904d0b808b6d88a7",
            "placeholder": "​",
            "style": "IPY_MODEL_41b855206fe74f0f8c7ab1b145764936",
            "value": " 14/0 [00:00&lt;00:00, 153.52 examples/s]"
          }
        },
        "71d143d002a244d8aec768516e350f15": {
          "model_module": "@jupyter-widgets/base",
          "model_name": "LayoutModel",
          "model_module_version": "1.2.0",
          "state": {
            "_model_module": "@jupyter-widgets/base",
            "_model_module_version": "1.2.0",
            "_model_name": "LayoutModel",
            "_view_count": null,
            "_view_module": "@jupyter-widgets/base",
            "_view_module_version": "1.2.0",
            "_view_name": "LayoutView",
            "align_content": null,
            "align_items": null,
            "align_self": null,
            "border": null,
            "bottom": null,
            "display": null,
            "flex": null,
            "flex_flow": null,
            "grid_area": null,
            "grid_auto_columns": null,
            "grid_auto_flow": null,
            "grid_auto_rows": null,
            "grid_column": null,
            "grid_gap": null,
            "grid_row": null,
            "grid_template_areas": null,
            "grid_template_columns": null,
            "grid_template_rows": null,
            "height": null,
            "justify_content": null,
            "justify_items": null,
            "left": null,
            "margin": null,
            "max_height": null,
            "max_width": null,
            "min_height": null,
            "min_width": null,
            "object_fit": null,
            "object_position": null,
            "order": null,
            "overflow": null,
            "overflow_x": null,
            "overflow_y": null,
            "padding": null,
            "right": null,
            "top": null,
            "visibility": null,
            "width": null
          }
        },
        "e99e2d5334f7499f9688cdc529140b8f": {
          "model_module": "@jupyter-widgets/base",
          "model_name": "LayoutModel",
          "model_module_version": "1.2.0",
          "state": {
            "_model_module": "@jupyter-widgets/base",
            "_model_module_version": "1.2.0",
            "_model_name": "LayoutModel",
            "_view_count": null,
            "_view_module": "@jupyter-widgets/base",
            "_view_module_version": "1.2.0",
            "_view_name": "LayoutView",
            "align_content": null,
            "align_items": null,
            "align_self": null,
            "border": null,
            "bottom": null,
            "display": null,
            "flex": null,
            "flex_flow": null,
            "grid_area": null,
            "grid_auto_columns": null,
            "grid_auto_flow": null,
            "grid_auto_rows": null,
            "grid_column": null,
            "grid_gap": null,
            "grid_row": null,
            "grid_template_areas": null,
            "grid_template_columns": null,
            "grid_template_rows": null,
            "height": null,
            "justify_content": null,
            "justify_items": null,
            "left": null,
            "margin": null,
            "max_height": null,
            "max_width": null,
            "min_height": null,
            "min_width": null,
            "object_fit": null,
            "object_position": null,
            "order": null,
            "overflow": null,
            "overflow_x": null,
            "overflow_y": null,
            "padding": null,
            "right": null,
            "top": null,
            "visibility": null,
            "width": null
          }
        },
        "ad23f17c51a54c7eb360852b6535cd78": {
          "model_module": "@jupyter-widgets/controls",
          "model_name": "DescriptionStyleModel",
          "model_module_version": "1.5.0",
          "state": {
            "_model_module": "@jupyter-widgets/controls",
            "_model_module_version": "1.5.0",
            "_model_name": "DescriptionStyleModel",
            "_view_count": null,
            "_view_module": "@jupyter-widgets/base",
            "_view_module_version": "1.2.0",
            "_view_name": "StyleView",
            "description_width": ""
          }
        },
        "e4246593f6204f63a5aab8b96e3b773e": {
          "model_module": "@jupyter-widgets/base",
          "model_name": "LayoutModel",
          "model_module_version": "1.2.0",
          "state": {
            "_model_module": "@jupyter-widgets/base",
            "_model_module_version": "1.2.0",
            "_model_name": "LayoutModel",
            "_view_count": null,
            "_view_module": "@jupyter-widgets/base",
            "_view_module_version": "1.2.0",
            "_view_name": "LayoutView",
            "align_content": null,
            "align_items": null,
            "align_self": null,
            "border": null,
            "bottom": null,
            "display": null,
            "flex": null,
            "flex_flow": null,
            "grid_area": null,
            "grid_auto_columns": null,
            "grid_auto_flow": null,
            "grid_auto_rows": null,
            "grid_column": null,
            "grid_gap": null,
            "grid_row": null,
            "grid_template_areas": null,
            "grid_template_columns": null,
            "grid_template_rows": null,
            "height": null,
            "justify_content": null,
            "justify_items": null,
            "left": null,
            "margin": null,
            "max_height": null,
            "max_width": null,
            "min_height": null,
            "min_width": null,
            "object_fit": null,
            "object_position": null,
            "order": null,
            "overflow": null,
            "overflow_x": null,
            "overflow_y": null,
            "padding": null,
            "right": null,
            "top": null,
            "visibility": null,
            "width": "20px"
          }
        },
        "c1bf721f85a7439e8b6faecd2fea549e": {
          "model_module": "@jupyter-widgets/controls",
          "model_name": "ProgressStyleModel",
          "model_module_version": "1.5.0",
          "state": {
            "_model_module": "@jupyter-widgets/controls",
            "_model_module_version": "1.5.0",
            "_model_name": "ProgressStyleModel",
            "_view_count": null,
            "_view_module": "@jupyter-widgets/base",
            "_view_module_version": "1.2.0",
            "_view_name": "StyleView",
            "bar_color": null,
            "description_width": ""
          }
        },
        "51877fcf54ae4b24904d0b808b6d88a7": {
          "model_module": "@jupyter-widgets/base",
          "model_name": "LayoutModel",
          "model_module_version": "1.2.0",
          "state": {
            "_model_module": "@jupyter-widgets/base",
            "_model_module_version": "1.2.0",
            "_model_name": "LayoutModel",
            "_view_count": null,
            "_view_module": "@jupyter-widgets/base",
            "_view_module_version": "1.2.0",
            "_view_name": "LayoutView",
            "align_content": null,
            "align_items": null,
            "align_self": null,
            "border": null,
            "bottom": null,
            "display": null,
            "flex": null,
            "flex_flow": null,
            "grid_area": null,
            "grid_auto_columns": null,
            "grid_auto_flow": null,
            "grid_auto_rows": null,
            "grid_column": null,
            "grid_gap": null,
            "grid_row": null,
            "grid_template_areas": null,
            "grid_template_columns": null,
            "grid_template_rows": null,
            "height": null,
            "justify_content": null,
            "justify_items": null,
            "left": null,
            "margin": null,
            "max_height": null,
            "max_width": null,
            "min_height": null,
            "min_width": null,
            "object_fit": null,
            "object_position": null,
            "order": null,
            "overflow": null,
            "overflow_x": null,
            "overflow_y": null,
            "padding": null,
            "right": null,
            "top": null,
            "visibility": null,
            "width": null
          }
        },
        "41b855206fe74f0f8c7ab1b145764936": {
          "model_module": "@jupyter-widgets/controls",
          "model_name": "DescriptionStyleModel",
          "model_module_version": "1.5.0",
          "state": {
            "_model_module": "@jupyter-widgets/controls",
            "_model_module_version": "1.5.0",
            "_model_name": "DescriptionStyleModel",
            "_view_count": null,
            "_view_module": "@jupyter-widgets/base",
            "_view_module_version": "1.2.0",
            "_view_name": "StyleView",
            "description_width": ""
          }
        },
        "adb83fc87fa74be3b6ad9849f453d225": {
          "model_module": "@jupyter-widgets/controls",
          "model_name": "HBoxModel",
          "model_module_version": "1.5.0",
          "state": {
            "_dom_classes": [],
            "_model_module": "@jupyter-widgets/controls",
            "_model_module_version": "1.5.0",
            "_model_name": "HBoxModel",
            "_view_count": null,
            "_view_module": "@jupyter-widgets/controls",
            "_view_module_version": "1.5.0",
            "_view_name": "HBoxView",
            "box_style": "",
            "children": [
              "IPY_MODEL_afa61bd4154c400b81c777d2c9727ec7",
              "IPY_MODEL_b0c8ec42e74a4c098b2e59ec0ebb3fc0",
              "IPY_MODEL_664c2815067d47b3817c7a9c39013b83"
            ],
            "layout": "IPY_MODEL_692f4ca3f69943febd5d221a94b65cc0"
          }
        },
        "afa61bd4154c400b81c777d2c9727ec7": {
          "model_module": "@jupyter-widgets/controls",
          "model_name": "HTMLModel",
          "model_module_version": "1.5.0",
          "state": {
            "_dom_classes": [],
            "_model_module": "@jupyter-widgets/controls",
            "_model_module_version": "1.5.0",
            "_model_name": "HTMLModel",
            "_view_count": null,
            "_view_module": "@jupyter-widgets/controls",
            "_view_module_version": "1.5.0",
            "_view_name": "HTMLView",
            "description": "",
            "description_tooltip": null,
            "layout": "IPY_MODEL_5a894341d387420fbb4ca7a4cdf9e230",
            "placeholder": "​",
            "style": "IPY_MODEL_8bd0449ce656434a83c9dfb844aaa4d5",
            "value": "Map: 100%"
          }
        },
        "b0c8ec42e74a4c098b2e59ec0ebb3fc0": {
          "model_module": "@jupyter-widgets/controls",
          "model_name": "FloatProgressModel",
          "model_module_version": "1.5.0",
          "state": {
            "_dom_classes": [],
            "_model_module": "@jupyter-widgets/controls",
            "_model_module_version": "1.5.0",
            "_model_name": "FloatProgressModel",
            "_view_count": null,
            "_view_module": "@jupyter-widgets/controls",
            "_view_module_version": "1.5.0",
            "_view_name": "ProgressView",
            "bar_style": "success",
            "description": "",
            "description_tooltip": null,
            "layout": "IPY_MODEL_bcdbb39bd2ae4ddd8f09d58a27b3c90a",
            "max": 14,
            "min": 0,
            "orientation": "horizontal",
            "style": "IPY_MODEL_bcf611782ae540d9ac25df2c6632d715",
            "value": 14
          }
        },
        "664c2815067d47b3817c7a9c39013b83": {
          "model_module": "@jupyter-widgets/controls",
          "model_name": "HTMLModel",
          "model_module_version": "1.5.0",
          "state": {
            "_dom_classes": [],
            "_model_module": "@jupyter-widgets/controls",
            "_model_module_version": "1.5.0",
            "_model_name": "HTMLModel",
            "_view_count": null,
            "_view_module": "@jupyter-widgets/controls",
            "_view_module_version": "1.5.0",
            "_view_name": "HTMLView",
            "description": "",
            "description_tooltip": null,
            "layout": "IPY_MODEL_3b9900c0460b40e1aa1e7fc7913d33d3",
            "placeholder": "​",
            "style": "IPY_MODEL_f85ea86ec1414d3e8efb20145a1919c8",
            "value": " 14/14 [00:00&lt;00:00, 281.39 examples/s]"
          }
        },
        "692f4ca3f69943febd5d221a94b65cc0": {
          "model_module": "@jupyter-widgets/base",
          "model_name": "LayoutModel",
          "model_module_version": "1.2.0",
          "state": {
            "_model_module": "@jupyter-widgets/base",
            "_model_module_version": "1.2.0",
            "_model_name": "LayoutModel",
            "_view_count": null,
            "_view_module": "@jupyter-widgets/base",
            "_view_module_version": "1.2.0",
            "_view_name": "LayoutView",
            "align_content": null,
            "align_items": null,
            "align_self": null,
            "border": null,
            "bottom": null,
            "display": null,
            "flex": null,
            "flex_flow": null,
            "grid_area": null,
            "grid_auto_columns": null,
            "grid_auto_flow": null,
            "grid_auto_rows": null,
            "grid_column": null,
            "grid_gap": null,
            "grid_row": null,
            "grid_template_areas": null,
            "grid_template_columns": null,
            "grid_template_rows": null,
            "height": null,
            "justify_content": null,
            "justify_items": null,
            "left": null,
            "margin": null,
            "max_height": null,
            "max_width": null,
            "min_height": null,
            "min_width": null,
            "object_fit": null,
            "object_position": null,
            "order": null,
            "overflow": null,
            "overflow_x": null,
            "overflow_y": null,
            "padding": null,
            "right": null,
            "top": null,
            "visibility": null,
            "width": null
          }
        },
        "5a894341d387420fbb4ca7a4cdf9e230": {
          "model_module": "@jupyter-widgets/base",
          "model_name": "LayoutModel",
          "model_module_version": "1.2.0",
          "state": {
            "_model_module": "@jupyter-widgets/base",
            "_model_module_version": "1.2.0",
            "_model_name": "LayoutModel",
            "_view_count": null,
            "_view_module": "@jupyter-widgets/base",
            "_view_module_version": "1.2.0",
            "_view_name": "LayoutView",
            "align_content": null,
            "align_items": null,
            "align_self": null,
            "border": null,
            "bottom": null,
            "display": null,
            "flex": null,
            "flex_flow": null,
            "grid_area": null,
            "grid_auto_columns": null,
            "grid_auto_flow": null,
            "grid_auto_rows": null,
            "grid_column": null,
            "grid_gap": null,
            "grid_row": null,
            "grid_template_areas": null,
            "grid_template_columns": null,
            "grid_template_rows": null,
            "height": null,
            "justify_content": null,
            "justify_items": null,
            "left": null,
            "margin": null,
            "max_height": null,
            "max_width": null,
            "min_height": null,
            "min_width": null,
            "object_fit": null,
            "object_position": null,
            "order": null,
            "overflow": null,
            "overflow_x": null,
            "overflow_y": null,
            "padding": null,
            "right": null,
            "top": null,
            "visibility": null,
            "width": null
          }
        },
        "8bd0449ce656434a83c9dfb844aaa4d5": {
          "model_module": "@jupyter-widgets/controls",
          "model_name": "DescriptionStyleModel",
          "model_module_version": "1.5.0",
          "state": {
            "_model_module": "@jupyter-widgets/controls",
            "_model_module_version": "1.5.0",
            "_model_name": "DescriptionStyleModel",
            "_view_count": null,
            "_view_module": "@jupyter-widgets/base",
            "_view_module_version": "1.2.0",
            "_view_name": "StyleView",
            "description_width": ""
          }
        },
        "bcdbb39bd2ae4ddd8f09d58a27b3c90a": {
          "model_module": "@jupyter-widgets/base",
          "model_name": "LayoutModel",
          "model_module_version": "1.2.0",
          "state": {
            "_model_module": "@jupyter-widgets/base",
            "_model_module_version": "1.2.0",
            "_model_name": "LayoutModel",
            "_view_count": null,
            "_view_module": "@jupyter-widgets/base",
            "_view_module_version": "1.2.0",
            "_view_name": "LayoutView",
            "align_content": null,
            "align_items": null,
            "align_self": null,
            "border": null,
            "bottom": null,
            "display": null,
            "flex": null,
            "flex_flow": null,
            "grid_area": null,
            "grid_auto_columns": null,
            "grid_auto_flow": null,
            "grid_auto_rows": null,
            "grid_column": null,
            "grid_gap": null,
            "grid_row": null,
            "grid_template_areas": null,
            "grid_template_columns": null,
            "grid_template_rows": null,
            "height": null,
            "justify_content": null,
            "justify_items": null,
            "left": null,
            "margin": null,
            "max_height": null,
            "max_width": null,
            "min_height": null,
            "min_width": null,
            "object_fit": null,
            "object_position": null,
            "order": null,
            "overflow": null,
            "overflow_x": null,
            "overflow_y": null,
            "padding": null,
            "right": null,
            "top": null,
            "visibility": null,
            "width": null
          }
        },
        "bcf611782ae540d9ac25df2c6632d715": {
          "model_module": "@jupyter-widgets/controls",
          "model_name": "ProgressStyleModel",
          "model_module_version": "1.5.0",
          "state": {
            "_model_module": "@jupyter-widgets/controls",
            "_model_module_version": "1.5.0",
            "_model_name": "ProgressStyleModel",
            "_view_count": null,
            "_view_module": "@jupyter-widgets/base",
            "_view_module_version": "1.2.0",
            "_view_name": "StyleView",
            "bar_color": null,
            "description_width": ""
          }
        },
        "3b9900c0460b40e1aa1e7fc7913d33d3": {
          "model_module": "@jupyter-widgets/base",
          "model_name": "LayoutModel",
          "model_module_version": "1.2.0",
          "state": {
            "_model_module": "@jupyter-widgets/base",
            "_model_module_version": "1.2.0",
            "_model_name": "LayoutModel",
            "_view_count": null,
            "_view_module": "@jupyter-widgets/base",
            "_view_module_version": "1.2.0",
            "_view_name": "LayoutView",
            "align_content": null,
            "align_items": null,
            "align_self": null,
            "border": null,
            "bottom": null,
            "display": null,
            "flex": null,
            "flex_flow": null,
            "grid_area": null,
            "grid_auto_columns": null,
            "grid_auto_flow": null,
            "grid_auto_rows": null,
            "grid_column": null,
            "grid_gap": null,
            "grid_row": null,
            "grid_template_areas": null,
            "grid_template_columns": null,
            "grid_template_rows": null,
            "height": null,
            "justify_content": null,
            "justify_items": null,
            "left": null,
            "margin": null,
            "max_height": null,
            "max_width": null,
            "min_height": null,
            "min_width": null,
            "object_fit": null,
            "object_position": null,
            "order": null,
            "overflow": null,
            "overflow_x": null,
            "overflow_y": null,
            "padding": null,
            "right": null,
            "top": null,
            "visibility": null,
            "width": null
          }
        },
        "f85ea86ec1414d3e8efb20145a1919c8": {
          "model_module": "@jupyter-widgets/controls",
          "model_name": "DescriptionStyleModel",
          "model_module_version": "1.5.0",
          "state": {
            "_model_module": "@jupyter-widgets/controls",
            "_model_module_version": "1.5.0",
            "_model_name": "DescriptionStyleModel",
            "_view_count": null,
            "_view_module": "@jupyter-widgets/base",
            "_view_module_version": "1.2.0",
            "_view_name": "StyleView",
            "description_width": ""
          }
        }
      }
    }
  },
  "nbformat": 4,
  "nbformat_minor": 0
}